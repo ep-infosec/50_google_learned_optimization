{
 "cells": [
  {
   "cell_type": "markdown",
   "metadata": {
    "id": "a7QBk71UMifh"
   },
   "source": [
    "# Part 5: Meta-training with GradientLearner"
   ]
  },
  {
   "cell_type": "code",
   "execution_count": null,
   "metadata": {
    "id": "MimfK6lp0vq9"
   },
   "outputs": [],
   "source": [
    "import numpy as np\n",
    "import jax.numpy as jnp\n",
    "import jax\n",
    "from matplotlib import pylab as plt\n",
    "\n",
    "from learned_optimization.outer_trainers import full_es\n",
    "from learned_optimization.outer_trainers import truncated_pes\n",
    "from learned_optimization.outer_trainers import gradient_learner\n",
    "from learned_optimization.outer_trainers import truncation_schedule\n",
    "from learned_optimization.outer_trainers import lopt_truncated_step\n",
    "\n",
    "from learned_optimization.tasks import quadratics\n",
    "from learned_optimization.tasks.fixed import image_mlp\n",
    "from learned_optimization.tasks import base as tasks_base\n",
    "\n",
    "from learned_optimization.learned_optimizers import base as lopt_base\n",
    "from learned_optimization.learned_optimizers import mlp_lopt\n",
    "from learned_optimization.optimizers import base as opt_base\n",
    "\n",
    "from learned_optimization import optimizers\n",
    "from learned_optimization import training\n",
    "from learned_optimization import eval_training\n",
    "\n",
    "import haiku as hk\n",
    "import tqdm"
   ]
  },
  {
   "cell_type": "markdown",
   "metadata": {
    "id": "vlBAN6agtoXy"
   },
   "source": [
    "In this notebook we build upon the previous notebook which discussed `TruncationSchedule` and `GradientEstimator`. Here, we leverage these components to provide more complete training functionality.\n",
    "We do not provide a full fledged training program -- only the computations that would need to be performed each iteration of meta-training.\n",
    "\n",
    "This code is **not** the only way to use the previous abstractions but can be convenient to avoid writing the same code over and over again. We encourage readers to write their own meta-training loops before diving into these abstractions."
   ]
  },
  {
   "cell_type": "markdown",
   "metadata": {
    "id": "a5iG2qpC8ttu"
   },
   "source": [
    "## Single machine meta-training: `SingleMachineGradientLearner`\n",
    "\n",
    "The `SingleMachineGradientLearner` provides the functionality to meta-train a learned optimizer with one or more gradient estimator. As an example, let's train a learned optimizer leveraging gradients from 2 different tasks: a quadratic task, and a fashion mnist mlp."
   ]
  },
  {
   "cell_type": "code",
   "execution_count": null,
   "metadata": {
    "id": "txx2_SmH8NhL"
   },
   "outputs": [],
   "source": [
    "theta_opt = opt_base.Adam(1e-3)\n",
    "\n",
    "lopt = mlp_lopt.MLPLOpt()\n",
    "max_length = 300\n",
    "trunc_sched = truncation_schedule.LogUniformLengthSchedule(\n",
    "    min_length=100, max_length=max_length)\n",
    "\n",
    "\n",
    "def grad_est_fn(task_family):\n",
    "  truncated_step = lopt_truncated_step.VectorizedLOptTruncatedStep(\n",
    "      task_family,\n",
    "      lopt,\n",
    "      trunc_sched,\n",
    "      num_tasks=4,\n",
    "      random_initial_iteration_offset=max_length)\n",
    "  return truncated_pes.TruncatedPES(\n",
    "      truncated_step=truncated_step, trunc_length=50)\n",
    "\n",
    "\n",
    "mlp_task_family = tasks_base.single_task_to_family(\n",
    "    image_mlp.ImageMLP_FashionMnist8_Relu32())\n",
    "\n",
    "gradient_estimators = [\n",
    "    grad_est_fn(quadratics.FixedDimQuadraticFamily(10)),\n",
    "    grad_est_fn(mlp_task_family),\n",
    "]\n",
    "\n",
    "outer_trainer = gradient_learner.SingleMachineGradientLearner(\n",
    "    lopt, gradient_estimators, theta_opt)"
   ]
  },
  {
   "cell_type": "markdown",
   "metadata": {
    "id": "IKmWbqwhkxLp"
   },
   "source": [
    "To use this, we must first construct the initial state which contains a randomly initialized learned optimizer, as well as all the initial state of all the inner-problems (in this case, one set for the quadratics being trained, and the other from the MLP being trained)."
   ]
  },
  {
   "cell_type": "code",
   "execution_count": null,
   "metadata": {
    "executionInfo": {
     "elapsed": 2924,
     "status": "ok",
     "timestamp": 1647562738598,
     "user": {
      "displayName": "",
      "photoUrl": "",
      "userId": ""
     },
     "user_tz": 240
    },
    "id": "N78WoigVkmUb",
    "outputId": "9c275261-c03f-4de4-804f-b48efd1ea4ed"
   },
   "outputs": [
    {
     "name": "stderr",
     "output_type": "stream",
     "text": []
    },
    {
     "data": {
      "text/plain": [
       "SingleMachineState(gradient_learner_state=GradientLearnerState(theta_opt_state=OptaxState(params={'mlp/~/linear_0': {'b': (32,), 'w': (19, 32)}, 'mlp/~/linear_1': {'b': (32,), 'w': (32, 32)}, 'mlp/~/linear_2': {'b': (2,), 'w': (32, 2)}}, state=None, optax_opt_state=(ScaleByAdamState(count=(), mu={'mlp/~/linear_0': {'b': (32,), 'w': (19, 32)}, 'mlp/~/linear_1': {'b': (32,), 'w': (32, 32)}, 'mlp/~/linear_2': {'b': (2,), 'w': (32, 2)}}, nu={'mlp/~/linear_0': {'b': (32,), 'w': (19, 32)}, 'mlp/~/linear_1': {'b': (32,), 'w': (32, 32)}, 'mlp/~/linear_2': {'b': (2,), 'w': (32, 2)}}), EmptyState()), iteration=())), gradient_estimator_states=[PESWorkerState(pos_state=TruncatedUnrollState(inner_opt_state=MLPLOptState(params=(4, 10), rolling_features=MomAccumulator(m=(4, 10, 6), t=(4, 6)), iteration=(4,), state=None), inner_step=(4,), truncation_state=ConstantTruncationState(length=(4,)), task_param=(4, 10), is_done=(4,)), neg_state=TruncatedUnrollState(inner_opt_state=MLPLOptState(params=(4, 10), rolling_features=MomAccumulator(m=(4, 10, 6), t=(4, 6)), iteration=(4,), state=None), inner_step=(4,), truncation_state=ConstantTruncationState(length=(4,)), task_param=(4, 10), is_done=(4,)), accumulator={'mlp/~/linear_0': {'b': (4, 32), 'w': (4, 19, 32)}, 'mlp/~/linear_1': {'b': (4, 32), 'w': (4, 32, 32)}, 'mlp/~/linear_2': {'b': (4, 2), 'w': (4, 32, 2)}}), PESWorkerState(pos_state=TruncatedUnrollState(inner_opt_state=MLPLOptState(params={'mlp/~/linear_0': {'b': (4, 32), 'w': (4, 64, 32)}, 'mlp/~/linear_1': {'b': (4, 10), 'w': (4, 32, 10)}}, rolling_features=MomAccumulator(m={'mlp/~/linear_0': {'b': (4, 32, 6), 'w': (4, 64, 32, 6)}, 'mlp/~/linear_1': {'b': (4, 10, 6), 'w': (4, 32, 10, 6)}}, t=(4, 6)), iteration=(4,), state=None), inner_step=(4,), truncation_state=ConstantTruncationState(length=(4,)), task_param=(4,), is_done=(4,)), neg_state=TruncatedUnrollState(inner_opt_state=MLPLOptState(params={'mlp/~/linear_0': {'b': (4, 32), 'w': (4, 64, 32)}, 'mlp/~/linear_1': {'b': (4, 10), 'w': (4, 32, 10)}}, rolling_features=MomAccumulator(m={'mlp/~/linear_0': {'b': (4, 32, 6), 'w': (4, 64, 32, 6)}, 'mlp/~/linear_1': {'b': (4, 10, 6), 'w': (4, 32, 10, 6)}}, t=(4, 6)), iteration=(4,), state=None), inner_step=(4,), truncation_state=ConstantTruncationState(length=(4,)), task_param=(4,), is_done=(4,)), accumulator={'mlp/~/linear_0': {'b': (4, 32), 'w': (4, 19, 32)}, 'mlp/~/linear_1': {'b': (4, 32), 'w': (4, 32, 32)}, 'mlp/~/linear_2': {'b': (4, 2), 'w': (4, 32, 2)}})])"
      ]
     },
     "execution_count": 4,
     "metadata": {},
     "output_type": "execute_result"
    }
   ],
   "source": [
    "key = jax.random.PRNGKey(0)\n",
    "outer_trainer_state = outer_trainer.init(key)\n",
    "jax.tree_util.tree_map(lambda x: jnp.asarray(x).shape, outer_trainer_state)"
   ]
  },
  {
   "cell_type": "markdown",
   "metadata": {
    "id": "bR6qSqckl6XG"
   },
   "source": [
    "This SingleMachineState contains the state of the `gradient_learner` (or the weights of the learned optimizer being trained as well as any variables needed to train these weights such as momentums (`theta_opt_state`).\n",
    "It also contains the `gradient_estimator_states` which is a list containing the states of each gradient estimator.\n",
    "\n",
    "We can train a single meta-step as follows. Note this could take a few minutes to compile."
   ]
  },
  {
   "cell_type": "code",
   "execution_count": null,
   "metadata": {
    "executionInfo": {
     "elapsed": 10757,
     "status": "ok",
     "timestamp": 1647562749465,
     "user": {
      "displayName": "",
      "photoUrl": "",
      "userId": ""
     },
     "user_tz": 240
    },
    "id": "9lomKFrzkqkd",
    "outputId": "cbce9749-bf2e-4abd-d7bd-8822077d587d"
   },
   "outputs": [
    {
     "name": "stderr",
     "output_type": "stream",
     "text": []
    }
   ],
   "source": [
    "next_state, loss, metrics = outer_trainer.update(\n",
    "    outer_trainer_state, key, with_metrics=False)"
   ]
  },
  {
   "cell_type": "markdown",
   "metadata": {
    "id": "PZNCltmgmfug"
   },
   "source": [
    "Now let's meta-train a few steps and watch the meta-loss go down."
   ]
  },
  {
   "cell_type": "code",
   "execution_count": null,
   "metadata": {
    "executionInfo": {
     "elapsed": 38491,
     "status": "ok",
     "timestamp": 1647562788069,
     "user": {
      "displayName": "",
      "photoUrl": "",
      "userId": ""
     },
     "user_tz": 240
    },
    "id": "6q3_EN5qmle_",
    "outputId": "234b28a7-8d3d-4740-8275-1d75ad7e54bc"
   },
   "outputs": [
    {
     "name": "stderr",
     "output_type": "stream",
     "text": [
      "100%|██████████| 500/500 [00:38<00:00, 13.01it/s]\n"
     ]
    }
   ],
   "source": [
    "losses = []\n",
    "import tqdm\n",
    "\n",
    "import os\n",
    "# Pulling this from an environment variable so this file can be run in automated tests faster.\n",
    "outer_train_steps = int(os.environ.get(\"LOPT_META_TRAIN_LENGTH\", 500))\n",
    "\n",
    "for i in tqdm.trange(outer_train_steps):\n",
    "  outer_trainer_state, loss, metrics = outer_trainer.update(\n",
    "      outer_trainer_state, key, with_metrics=False)\n",
    "  losses.append(loss)"
   ]
  },
  {
   "cell_type": "code",
   "execution_count": null,
   "metadata": {
    "colab": {
     "height": 282
    },
    "executionInfo": {
     "elapsed": 257,
     "status": "ok",
     "timestamp": 1647562788441,
     "user": {
      "displayName": "",
      "photoUrl": "",
      "userId": ""
     },
     "user_tz": 240
    },
    "id": "cT_iJUTHmfWt",
    "outputId": "436186c8-e7b5-4599-de10-aa7fc3200bc7"
   },
   "outputs": [
    {
     "data": {
      "text/plain": [
       "[<matplotlib.lines.Line2D at 0x7fcd42975910>]"
      ]
     },
     "execution_count": 7,
     "metadata": {},
     "output_type": "execute_result"
    },
    {
     "data": {
      "image/png": "[encoded data removed]",
      "text/plain": [
       "<Figure size 600x400 with 1 Axes>"
      ]
     },
     "metadata": {},
     "output_type": "display_data"
    }
   ],
   "source": [
    "plt.plot(losses)\n",
    "plt.xlabel(\"outer iteration\")\n",
    "plt.ylabel(\"outer loss\")"
   ]
  },
  {
   "cell_type": "code",
   "execution_count": null,
   "metadata": {
    "executionInfo": {
     "elapsed": 3,
     "status": "ok",
     "timestamp": 1647562788752,
     "user": {
      "displayName": "",
      "photoUrl": "",
      "userId": ""
     },
     "user_tz": 240
    },
    "id": "akK_PYCIkwDx",
    "outputId": "c3ad2258-b9ca-458d-fc52-58423d5dd0cc"
   },
   "outputs": [
    {
     "data": {
      "text/plain": [
       "{'none||best_of_mean_loss': array(5.550927, dtype=float32),\n",
       " 'none||mean_loss': array(5.550927, dtype=float32)}"
      ]
     },
     "execution_count": 8,
     "metadata": {},
     "output_type": "execute_result"
    }
   ],
   "source": [
    "metrics"
   ]
  },
  {
   "cell_type": "markdown",
   "metadata": {
    "id": "kh27tduOwR3E"
   },
   "source": [
    "We see some oscillations in this loss value. This makes sense as we are meta-training with a truncated method. Depending on the location in the inner-problem the losses will be greater or smaller. With enough tasks this will average out, but often this is not required to obtain performant learned optimizers. This does mean, however, that evaluating a learned optimizer after the fact is important to obtain a realistic performance measurement."
   ]
  },
  {
   "cell_type": "markdown",
   "metadata": {
    "id": "gKImCte3n5gF"
   },
   "source": [
    "## Manual meta-gradient aggregation with applications to distributed training\n",
    "\n",
    "Often when training a learned optimizer we seek to estimate meta-gradients over a wide variety of tasks spread across a number of different machines.\n",
    "To do this we need to be explicit about what data needs to be sent from the central learner to compute updates (usually just the weights of the learned optimizer) and what data needs to be sent back (aggregated gradients + metrics and **not** the state of the unrolls for each inner-problem.)\n",
    "\n",
    "To help manage this, we provide a class to manage the central learner's computation, and a function to compute updates which would run on each worker.\n",
    "\n",
    "\n",
    "As this demo is in a colab, we will do everything in one process.\n",
    "First, we will create the central learner. This is responsible for taking in gradients, updating the weights of the learned optimizer, and providing new data back to the workers."
   ]
  },
  {
   "cell_type": "code",
   "execution_count": null,
   "metadata": {
    "id": "SbWqD3pbl3BW"
   },
   "outputs": [],
   "source": [
    "theta_opt = opt_base.Adam(1e-3)\n",
    "central_learner = gradient_learner.GradientLearner(lopt, theta_opt)"
   ]
  },
  {
   "cell_type": "code",
   "execution_count": null,
   "metadata": {
    "executionInfo": {
     "elapsed": 60,
     "status": "ok",
     "timestamp": 1647562789178,
     "user": {
      "displayName": "",
      "photoUrl": "",
      "userId": ""
     },
     "user_tz": 240
    },
    "id": "SuKABLjk3D9R",
    "outputId": "de50cad0-aabd-4f71-9a0b-85cb20a94487"
   },
   "outputs": [
    {
     "data": {
      "text/plain": [
       "GradientLearnerState(theta_opt_state=OptaxState(params={'mlp/~/linear_0': {'b': (32,), 'w': (19, 32)}, 'mlp/~/linear_1': {'b': (32,), 'w': (32, 32)}, 'mlp/~/linear_2': {'b': (2,), 'w': (32, 2)}}, state=None, optax_opt_state=(ScaleByAdamState(count=(), mu={'mlp/~/linear_0': {'b': (32,), 'w': (19, 32)}, 'mlp/~/linear_1': {'b': (32,), 'w': (32, 32)}, 'mlp/~/linear_2': {'b': (2,), 'w': (32, 2)}}, nu={'mlp/~/linear_0': {'b': (32,), 'w': (19, 32)}, 'mlp/~/linear_1': {'b': (32,), 'w': (32, 32)}, 'mlp/~/linear_2': {'b': (2,), 'w': (32, 2)}}), EmptyState()), iteration=()))"
      ]
     },
     "execution_count": 10,
     "metadata": {},
     "output_type": "execute_result"
    }
   ],
   "source": [
    "key = jax.random.PRNGKey(0)\n",
    "central_state = central_learner.init(key)\n",
    "jax.tree_util.tree_map(lambda x: jnp.asarray(x).shape, central_state)"
   ]
  },
  {
   "cell_type": "markdown",
   "metadata": {
    "id": "YmbKXLcL3zDB"
   },
   "source": [
    "We can see here that this just contains the weights of the learned optimizer, plus the extra accumulators used by adam.\n",
    "\n",
    "Next, we can compute gradient estimators, but first we must get the required state from the learner."
   ]
  },
  {
   "cell_type": "code",
   "execution_count": null,
   "metadata": {
    "id": "1MunNqVl4TSH"
   },
   "outputs": [],
   "source": [
    "worker_weights = central_learner.get_state_for_worker(central_state)"
   ]
  },
  {
   "cell_type": "markdown",
   "metadata": {
    "id": "GrBAGdre4bWI"
   },
   "source": [
    "Next, we can compute gradients on a given worker. As before we need to get a list of gradient estimators. We can use the same set we used before."
   ]
  },
  {
   "cell_type": "code",
   "execution_count": null,
   "metadata": {
    "id": "D5EfexNg5H6p"
   },
   "outputs": [],
   "source": [
    "max_length = 300\n",
    "trunc_sched = truncation_schedule.LogUniformLengthSchedule(\n",
    "    min_length=100, max_length=max_length)\n",
    "\n",
    "\n",
    "def grad_est_fn(task_family):\n",
    "  trunc_step = lopt_truncated_step.VectorizedLOptTruncatedStep(\n",
    "      task_family,\n",
    "      lopt,\n",
    "      trunc_sched,\n",
    "      num_tasks=16,\n",
    "      random_initial_iteration_offset=max_length)\n",
    "  return truncated_pes.TruncatedPES(trunc_step, trunc_length=50)\n",
    "\n",
    "\n",
    "mlp_task_family = tasks_base.single_task_to_family(\n",
    "    image_mlp.ImageMLP_FashionMnist8_Relu32())\n",
    "\n",
    "gradient_estimators = [\n",
    "    grad_est_fn(quadratics.FixedDimQuadraticFamily(10)),\n",
    "    grad_est_fn(mlp_task_family)\n",
    "]"
   ]
  },
  {
   "cell_type": "markdown",
   "metadata": {
    "id": "tmJEzRjw5LSA"
   },
   "source": [
    "Next, we need to kick things off by first computing the initial states for each of the gradient estimators."
   ]
  },
  {
   "cell_type": "code",
   "execution_count": null,
   "metadata": {
    "executionInfo": {
     "elapsed": 1143,
     "status": "ok",
     "timestamp": 1647562879797,
     "user": {
      "displayName": "",
      "photoUrl": "",
      "userId": ""
     },
     "user_tz": 240
    },
    "id": "gsPQvD4Y5RQd",
    "outputId": "ee93ac90-fed8-42d5-e376-2aa52b7da2df"
   },
   "outputs": [
    {
     "name": "stderr",
     "output_type": "stream",
     "text": []
    }
   ],
   "source": [
    "unroll_states = [\n",
    "    grad.init_worker_state(worker_weights, key=jax.random.fold_in(key, i))\n",
    "    for (i, grad) in enumerate(gradient_estimators)\n",
    "]"
   ]
  },
  {
   "cell_type": "markdown",
   "metadata": {
    "id": "gE4nf01r6AcB"
   },
   "source": [
    "Next we can use these states to estimate a meta-gradient!"
   ]
  },
  {
   "cell_type": "code",
   "execution_count": null,
   "metadata": {
    "executionInfo": {
     "elapsed": 10255,
     "status": "ok",
     "timestamp": 1647562891517,
     "user": {
      "displayName": "",
      "photoUrl": "",
      "userId": ""
     },
     "user_tz": 240
    },
    "id": "sd_DuFzS3Gr8",
    "outputId": "b742898c-ecb0-4f43-c9e8-19ac8a484770"
   },
   "outputs": [
    {
     "name": "stderr",
     "output_type": "stream",
     "text": []
    }
   ],
   "source": [
    "out = gradient_learner.gradient_worker_compute(\n",
    "    worker_weights,\n",
    "    gradient_estimators,\n",
    "    unroll_states,\n",
    "    key=key,\n",
    "    with_metrics=False)"
   ]
  },
  {
   "cell_type": "markdown",
   "metadata": {
    "id": "B01vLh7V5-zu"
   },
   "source": [
    "This produces a couple of different outputs bundled together in a dataclass."
   ]
  },
  {
   "cell_type": "code",
   "execution_count": null,
   "metadata": {
    "executionInfo": {
     "elapsed": 83,
     "status": "ok",
     "timestamp": 1647562891712,
     "user": {
      "displayName": "",
      "photoUrl": "",
      "userId": ""
     },
     "user_tz": 240
    },
    "id": "Ax495URy6LSA",
    "outputId": "d66c3912-719a-4867-c7b4-35ccbf3697b7"
   },
   "outputs": [
    {
     "data": {
      "text/plain": [
       "['event_info', 'metrics', 'to_put', 'unroll_states']"
      ]
     },
     "execution_count": 16,
     "metadata": {},
     "output_type": "execute_result"
    }
   ],
   "source": [
    "[x for x in dir(out) if not x.startswith(\"__\") and x != \"replace\"]"
   ]
  },
  {
   "cell_type": "markdown",
   "metadata": {
    "id": "HI-xgDib0c6d"
   },
   "source": [
    "Most importantly we have `to_put` which contains information that should be sent to the central learner, and `unroll_states` which contains the next unroll states."
   ]
  },
  {
   "cell_type": "markdown",
   "metadata": {
    "id": "VAKMmIRt6e60"
   },
   "source": [
    "Now with more than one worker, we would pass back a list of these gradients. In this demo, we will just use a single one, and pass this directly into the central learner to get the next meta-iteration. With more workers, this would contain a different gradient estimator from each worker."
   ]
  },
  {
   "cell_type": "code",
   "execution_count": null,
   "metadata": {
    "id": "pne3-Yy147tW"
   },
   "outputs": [],
   "source": [
    "key1, key = jax.random.split(key)\n",
    "grads_list = [out.to_put]\n",
    "central_state, metrics = central_learner.update(central_state, grads_list, key=key1)"
   ]
  },
  {
   "cell_type": "markdown",
   "metadata": {
    "id": "i0H_re9cVW1b"
   },
   "source": [
    "And we can do this over and over again. This time let's do it with more than one gradient estimate."
   ]
  },
  {
   "cell_type": "code",
   "execution_count": null,
   "metadata": {
    "executionInfo": {
     "elapsed": 62457,
     "status": "ok",
     "timestamp": 1647562954574,
     "user": {
      "displayName": "",
      "photoUrl": "",
      "userId": ""
     },
     "user_tz": 240
    },
    "id": "KNIUGUvKVwld",
    "outputId": "997ad5f5-e7a1-4b4c-bdc5-02f322178273"
   },
   "outputs": [
    {
     "name": "stderr",
     "output_type": "stream",
     "text": [
      "100%|██████████| 500/500 [01:02<00:00,  8.01it/s]\n"
     ]
    }
   ],
   "source": [
    "losses = []\n",
    "\n",
    "outer_train_steps = int(os.environ.get(\"LOPT_META_TRAIN_LENGTH\", 500))\n",
    "\n",
    "for i in tqdm.trange(outer_train_steps):\n",
    "  worker_weights = central_learner.get_state_for_worker(central_state)\n",
    "\n",
    "  key1, key = jax.random.split(key)\n",
    "  out = gradient_learner.gradient_worker_compute(\n",
    "      worker_weights,\n",
    "      gradient_estimators,\n",
    "      unroll_states,\n",
    "      key=key1,\n",
    "      with_metrics=False)\n",
    "  # extract the next unroll state output for the next iteration.\n",
    "  unroll_states = out.unroll_states\n",
    "\n",
    "  key1, key = jax.random.split(key)\n",
    "  central_state, metrics = central_learner.update(\n",
    "      central_state, [out.to_put], key=key1)\n",
    "  losses.append(out.to_put.mean_loss)"
   ]
  },
  {
   "cell_type": "code",
   "execution_count": null,
   "metadata": {
    "colab": {
     "height": 296
    },
    "executionInfo": {
     "elapsed": 177,
     "status": "ok",
     "timestamp": 1647563002848,
     "user": {
      "displayName": "",
      "photoUrl": "",
      "userId": ""
     },
     "user_tz": 240
    },
    "id": "WszEeLOBJw0x",
    "outputId": "d548cd42-aa08-407b-e65c-a2e3bacb7b91"
   },
   "outputs": [
    {
     "data": {
      "text/plain": [
       "Text(0, 0.5, 'outer loss')"
      ]
     },
     "execution_count": 20,
     "metadata": {},
     "output_type": "execute_result"
    },
    {
     "data": {
      "image/png": "[encoded data removed]",
      "text/plain": [
       "<Figure size 600x400 with 1 Axes>"
      ]
     },
     "metadata": {},
     "output_type": "display_data"
    }
   ],
   "source": [
    "plt.plot(losses)\n",
    "plt.xlabel(\"outer iteration\")\n",
    "plt.ylabel(\"outer loss\")"
   ]
  },
  {
   "cell_type": "code",
   "execution_count": null,
   "metadata": {
    "id": "nyqYdAFIaFJh"
   },
   "outputs": [],
   "source": []
  }
 ],
 "metadata": {
  "colab": {
   "collapsed_sections": [],
   "last_runtime": {
    "build_target": "//learning/deepmind/public/tools/ml_python:ml_notebook",
    "kind": "private"
   },
   "name": "Part 5: Meta-training with GradientLearner",
   "provenance": [
    {
     "file_id": "1o5ysb_wGqcLhoZNg86OW_HuRI7S-XRvY",
     "timestamp": 1642477083281
    }
   ]
  },
  "jupytext": {
   "formats": "ipynb,md:myst,py",
   "main_language": "python"
  },
  "kernelspec": {
   "display_name": "Python 3",
   "name": "python3"
  },
  "language_info": {
   "name": "python"
  }
 },
 "nbformat": 4,
 "nbformat_minor": 0
}
