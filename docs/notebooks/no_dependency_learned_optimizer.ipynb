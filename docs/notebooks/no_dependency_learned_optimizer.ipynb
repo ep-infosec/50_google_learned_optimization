{
 "cells": [
  {
   "cell_type": "markdown",
   "metadata": {
    "id": "fsuA88fu5HSV"
   },
   "source": [
    "# No dependency introduction to learned optimizers in JAX\n",
    "\n",
    "This notebook contains a self contained implementation of learned optimizers in JAX.\n",
    "It is minimal in the hopes that it is easier to follow and give readers a better understanding of what is involved. First we start with some background describing what learned optimizer are. We begin the implementation by implementing a simple MLP and train it with a hand designed optimizer. We then introduce a simple learned optimizer and discuss multiple ways to meta-train the weights of this learned optimizers including gradients, and evolution strategies.\n",
    "\n",
    "The design ideas and patterns are the same as that used by [`learned_optimization`](https://github.com/google/learned_optimization), but greatly stripped down and simplified."
   ]
  },
  {
   "cell_type": "code",
   "execution_count": 1,
   "metadata": {
    "executionInfo": {
     "elapsed": 4826,
     "status": "ok",
     "timestamp": 1647716615044,
     "user": {
      "displayName": "",
      "photoUrl": "",
      "userId": ""
     },
     "user_tz": 240
    },
    "id": "AdcD2g_d5Gw4"
   },
   "outputs": [],
   "source": [
    "import jax\n",
    "import jax.numpy as jnp\n",
    "import tensorflow_datasets as tfds\n",
    "import matplotlib.pylab as plt\n",
    "import numpy as onp\n",
    "import functools\n",
    "import os"
   ]
  },
  {
   "cell_type": "markdown",
   "metadata": {
    "id": "TacG7U72It6c"
   },
   "source": [
    "## What is a learned optimizer?\n",
    "\n",
    "Learned optimizers are machine learning models which themselves optimize other machine learning models.\n",
    "\n",
    "To understand what exactly this means, consider first a simple hand designed optimizer: SGD. We can write the update equation as a single function of both parameter values, $x$, and gradients $\\nabla l$ computed on some loss $l$.\n",
    "\n",
    "$$U_{sgd}(x, \\nabla l; \\alpha) = - \\alpha \\nabla l $$\n",
    "\n",
    "This update can be applied us our next iterate:\n",
    "\n",
    "$$x' = x + U_{sgd}(x, \\nabla l; \\alpha)$$\n",
    "\n",
    "This update rule is simple, effective, and widely used. Can we do better?\n",
    "\n",
    "Framed in this way, this algorithm is simply a function. One idea to improve training is to switch out this hand designed function with a learned function parameterized by some set of weights, $\\theta$:\n",
    "\n",
    "$$U(x, \\nabla l; \\theta) = \\text{NN}(x, \\nabla l; \\theta)$$\n",
    "\n",
    "We call the weights of the optimizer, $\\theta$, the meta-parameters, or outer-parameters. The weights this optimizer is optimizing we refer to as the inner-parameters, or simply parameters.\n",
    "\n",
    "Now given this more flexible form, how do we set a particular value of the learned optimizer weights so that the learned optimizer \"performs well\"? To do this, we must first define what it means to perform well. In standard optimization, this could mean find some low loss solution after applying the optimizer many times. In machine learning, this could be finding a solution which generalizes. This objective / measurement of performance of the learned optimizer often goes by the name of a meta-loss, or outer loss.\n",
    "\n",
    "With this metric in hand, we can **optimize** the weights of the learned optimizer with respect to this meta-loss. If we have a flexible enough set of weights, and can solve this optimization problem, we will be left with a performant optimizer!\n",
    "\n",
    "\n",
    "In this notebook, we first start by defining the type of problem we seek our optimizer to perform well on. Next, we introduce optimizers, followed learned optimizers. Next we define our meta-objective, or our measurement of how well our optimizers perform. Finally, we discuss a variety of techniques, and tricks for meta-training including gradient based, evolutionary strategies based, and by leveraging truncations."
   ]
  },
  {
   "cell_type": "markdown",
   "metadata": {
    "id": "XqSOLXZ-5SJ0"
   },
   "source": [
    "## The inner problem\n",
    "\n",
    "We seek to train a learned optimizer to perform well on some task. In this demo notebook, we will define our task to be a single MLP trained on resized Fashion Mnist.\n",
    "\n",
    "### Data iterators\n",
    "Data iterators are pretty standard, so we will not reinvent the wheel and use tensorflow datasets to create a python iterator which yields batches of data.\n",
    "\n",
    "To keep meta-training fast, we will be working with with images resized to 8x8."
   ]
  },
  {
   "cell_type": "code",
   "execution_count": 2,
   "metadata": {
    "colab": {
     "height": 592
    },
    "executionInfo": {
     "elapsed": 7501,
     "status": "ok",
     "timestamp": 1647716622662,
     "user": {
      "displayName": "",
      "photoUrl": "",
      "userId": ""
     },
     "user_tz": 240
    },
    "id": "UM2Yg-HP6LhO",
    "outputId": "56efd60d-6fc6-4f25-e820-99a375d0121d"
   },
   "outputs": [
    {
     "data": {
      "image/png": "[encoded data removed]",
      "text/plain": [
       "<Figure size 1000x1000 with 16 Axes>"
      ]
     },
     "metadata": {},
     "output_type": "display_data"
    }
   ],
   "source": [
    "import tensorflow as tf\n",
    "\n",
    "ds = tfds.load(\"fashion_mnist\", split=\"train\")\n",
    "\n",
    "\n",
    "def resize_and_scale(batch):\n",
    "  batch[\"image\"] = tf.image.resize(batch[\"image\"], (8, 8)) / 255.\n",
    "  return batch\n",
    "\n",
    "\n",
    "ds = ds.map(resize_and_scale).cache().repeat(-1).shuffle(\n",
    "    64 * 10).batch(128).prefetch(5)\n",
    "data_iterator = ds.as_numpy_iterator()\n",
    "batch = next(data_iterator)\n",
    "fig, axs = plt.subplots(4, 4, figsize=(10, 10))\n",
    "for ai, a in enumerate(axs.ravel()):\n",
    "  a.imshow(batch[\"image\"][ai][:, :, 0], cmap=\"gray\")\n",
    "\n",
    "input_size = onp.prod(batch[\"image\"].shape[1:])"
   ]
  },
  {
   "cell_type": "markdown",
   "metadata": {
    "id": "ruw2lKT1I0Ez"
   },
   "source": [
    "### Inner problem loss function & initialization\n",
    "\n",
    "Next, we must define the inner problem with which we seek to train.\n",
    "One important note here is no parameters are stored in the task itself! See [this](https://jax.readthedocs.io/en/latest/jax-101/07-state.html) jax tutorial for more information on this.\n",
    "\n",
    "Our task will have 2 methods -- an init which constructs the initial values of the weights, and a loss which applies the MLP, and returns the average cross entropy loss."
   ]
  },
  {
   "cell_type": "code",
   "execution_count": 3,
   "metadata": {
    "executionInfo": {
     "elapsed": 1547,
     "status": "ok",
     "timestamp": 1647716624386,
     "user": {
      "displayName": "",
      "photoUrl": "",
      "userId": ""
     },
     "user_tz": 240
    },
    "id": "SNUAeWO65TzL",
    "outputId": "69ff87c8-4b39-4cd3-c16c-b42edf249113"
   },
   "outputs": [
    {
     "data": {
      "text/plain": [
       "DeviceArray(2.3008037, dtype=float32)"
      ]
     },
     "execution_count": 3,
     "metadata": {},
     "output_type": "execute_result"
    }
   ],
   "source": [
    "class MLPTask:\n",
    "\n",
    "  def init(self, key):\n",
    "    key1, key2 = jax.random.split(key)\n",
    "    w0 = jax.random.normal(key1, [input_size, 128]) * 0.02\n",
    "    w1 = jax.random.normal(key2, [128, 10]) * 0.02\n",
    "    b0 = jnp.zeros([128])\n",
    "    b1 = jnp.ones([10])\n",
    "    return (w0, b0, w1, b1)\n",
    "\n",
    "  def loss(self, params, batch):\n",
    "    data = batch[\"image\"]\n",
    "    data = jnp.reshape(data, [data.shape[0], -1])\n",
    "    w0, b0, w1, b1 = params\n",
    "    logits = jax.nn.relu(data @ w0 + b0) @ w1 + b1\n",
    "    labels = jax.nn.one_hot(batch[\"label\"], 10)\n",
    "    vec_loss = -jnp.sum(labels * jax.nn.log_softmax(logits), axis=-1)\n",
    "    return jnp.mean(vec_loss)\n",
    "\n",
    "\n",
    "task = MLPTask()\n",
    "key = jax.random.PRNGKey(0)\n",
    "params = task.init(key)\n",
    "task.loss(params, batch)"
   ]
  },
  {
   "cell_type": "markdown",
   "metadata": {
    "id": "YL8XVt6JI3BI"
   },
   "source": [
    "### Inner training with SGD\n",
    "\n",
    "With our newly defined model, let's train it with SGD."
   ]
  },
  {
   "cell_type": "code",
   "execution_count": 4,
   "metadata": {
    "colab": {
     "height": 282
    },
    "executionInfo": {
     "elapsed": 2351,
     "status": "ok",
     "timestamp": 1647716626848,
     "user": {
      "displayName": "",
      "photoUrl": "",
      "userId": ""
     },
     "user_tz": 240
    },
    "id": "wTMYdlvO5RVC",
    "outputId": "9c39fa33-cf66-4a6b-84de-81478deeb2c3"
   },
   "outputs": [
    {
     "data": {
      "text/plain": [
       "[<matplotlib.lines.Line2D at 0x7f407a86f8d0>]"
      ]
     },
     "execution_count": 4,
     "metadata": {},
     "output_type": "execute_result"
    },
    {
     "data": {
      "image/png": "[encoded data removed]",
      "text/plain": [
       "<Figure size 600x400 with 1 Axes>"
      ]
     },
     "metadata": {},
     "output_type": "display_data"
    }
   ],
   "source": [
    "value_grad_fn = jax.jit(jax.value_and_grad(task.loss))\n",
    "lr = 0.1\n",
    "\n",
    "losses = []\n",
    "params = task.init(key)\n",
    "# get from environment variable so this notebook can be automatically tested.\n",
    "num_steps = int(os.environ.get(\"LOPT_TRAIN_LENGTH\", 1000))\n",
    "for i in range(num_steps):\n",
    "  batch = next(data_iterator)\n",
    "  loss, grads = value_grad_fn(params, batch)\n",
    "  params = [p - lr * g for p, g in zip(params, grads)]\n",
    "  losses.append(loss)\n",
    "plt.plot(losses)"
   ]
  },
  {
   "cell_type": "markdown",
   "metadata": {
    "id": "jddnOrHu8WCb"
   },
   "source": [
    "## Optimizers\n",
    "SGD is all fine and good, but it is often useful to abstract away the specific update rule. This abstraction has two methods: An init, which setups up the initial optimizer state, and an update which uses this state and gradients to produce some new state.\n",
    "\n",
    "In the case of SGD, this state is just the parameter values."
   ]
  },
  {
   "cell_type": "code",
   "execution_count": 5,
   "metadata": {
    "executionInfo": {
     "elapsed": 54,
     "status": "ok",
     "timestamp": 1647716627049,
     "user": {
      "displayName": "",
      "photoUrl": "",
      "userId": ""
     },
     "user_tz": 240
    },
    "id": "WX6fbsYu8Xmy"
   },
   "outputs": [],
   "source": [
    "class SGD:\n",
    "\n",
    "  def __init__(self, lr):\n",
    "    self.lr = lr\n",
    "\n",
    "  def init(self, params):\n",
    "    return (params,)\n",
    "\n",
    "  def update(self, opt_state, grads):\n",
    "    return (tuple([p - self.lr * g for p, g in zip(opt_state[0], grads)]),)"
   ]
  },
  {
   "cell_type": "markdown",
   "metadata": {
    "id": "ah5U6H1_qzpv"
   },
   "source": [
    "Instead of inlining SGD, we can now use our optimizer class."
   ]
  },
  {
   "cell_type": "code",
   "execution_count": 6,
   "metadata": {
    "colab": {
     "height": 282
    },
    "executionInfo": {
     "elapsed": 904,
     "status": "ok",
     "timestamp": 1647716628067,
     "user": {
      "displayName": "",
      "photoUrl": "",
      "userId": ""
     },
     "user_tz": 240
    },
    "id": "Ul52LhQc8x3w",
    "outputId": "755da128-a07c-48af-d15e-c43495229ffd"
   },
   "outputs": [
    {
     "data": {
      "text/plain": [
       "[<matplotlib.lines.Line2D at 0x7f40604d5fd0>]"
      ]
     },
     "execution_count": 6,
     "metadata": {},
     "output_type": "execute_result"
    },
    {
     "data": {
      "image/png": "[encoded data removed]",
      "text/plain": [
       "<Figure size 600x400 with 1 Axes>"
      ]
     },
     "metadata": {},
     "output_type": "display_data"
    }
   ],
   "source": [
    "losses = []\n",
    "opt = SGD(0.1)\n",
    "opt_state = opt.init(task.init(key))\n",
    "\n",
    "num_steps = int(os.environ.get(\"LOPT_TRAIN_LENGTH\", 1000))\n",
    "for i in range(num_steps):\n",
    "  batch = next(data_iterator)\n",
    "  loss, grads = value_grad_fn(opt_state[0], batch)\n",
    "  opt_state = opt.update(opt_state, grads)\n",
    "  losses.append(loss)\n",
    "plt.plot(losses)"
   ]
  },
  {
   "cell_type": "markdown",
   "metadata": {
    "id": "uCOBWVkeq2qD"
   },
   "source": [
    "Now, let's define some other optimizers. Momentum makes use of an additional accumulator variable. We can define it as follows."
   ]
  },
  {
   "cell_type": "code",
   "execution_count": 7,
   "metadata": {
    "executionInfo": {
     "elapsed": 52,
     "status": "ok",
     "timestamp": 1647716628264,
     "user": {
      "displayName": "",
      "photoUrl": "",
      "userId": ""
     },
     "user_tz": 240
    },
    "id": "h70Uo7TB89zk"
   },
   "outputs": [],
   "source": [
    "class Momentum:\n",
    "\n",
    "  def __init__(self, lr, decay=0.9):\n",
    "    self.lr = lr\n",
    "    self.decay = decay\n",
    "\n",
    "  def init(self, params):\n",
    "    return (params, [jnp.zeros_like(p) for p in params])\n",
    "\n",
    "  def update(self, state, grads):\n",
    "    params, momentum = state\n",
    "    momentum = [m * self.decay + self.lr * g for m, g in zip(momentum, grads)]\n",
    "    params = [p - m for p, m in zip(params, momentum)]\n",
    "    return (params, momentum)"
   ]
  },
  {
   "cell_type": "markdown",
   "metadata": {
    "id": "UuLD7NdxrHC_"
   },
   "source": [
    "We can use this in our same training loop again. Here, the parameters are stored in the 0th entry of opt_state."
   ]
  },
  {
   "cell_type": "code",
   "execution_count": 8,
   "metadata": {
    "colab": {
     "height": 282
    },
    "executionInfo": {
     "elapsed": 1342,
     "status": "ok",
     "timestamp": 1647716629720,
     "user": {
      "displayName": "",
      "photoUrl": "",
      "userId": ""
     },
     "user_tz": 240
    },
    "id": "-suAcnqC9QpH",
    "outputId": "892958ae-bf4f-4083-800e-a32a7d82f2b8"
   },
   "outputs": [
    {
     "data": {
      "text/plain": [
       "[<matplotlib.lines.Line2D at 0x7f406046afd0>]"
      ]
     },
     "execution_count": 8,
     "metadata": {},
     "output_type": "execute_result"
    },
    {
     "data": {
      "image/png": "[encoded data removed]",
      "text/plain": [
       "<Figure size 600x400 with 1 Axes>"
      ]
     },
     "metadata": {},
     "output_type": "display_data"
    }
   ],
   "source": [
    "opt = Momentum(0.01)\n",
    "params = task.init(key)\n",
    "opt_state = opt.init(params)\n",
    "del params\n",
    "\n",
    "losses = []\n",
    "num_steps = int(os.environ.get(\"LOPT_TRAIN_LENGTH\", 1000))\n",
    "for i in range(num_steps):\n",
    "  batch = next(data_iterator)\n",
    "  loss, grads = value_grad_fn(opt_state[0], batch)\n",
    "  opt_state = opt.update(opt_state, grads)\n",
    "  losses.append(loss)\n",
    "plt.plot(losses)"
   ]
  },
  {
   "cell_type": "markdown",
   "metadata": {
    "id": "RrwIMhObH29t"
   },
   "source": [
    "And finally, we can implement Adam."
   ]
  },
  {
   "cell_type": "code",
   "execution_count": 9,
   "metadata": {
    "executionInfo": {
     "elapsed": 53,
     "status": "ok",
     "timestamp": 1647716629923,
     "user": {
      "displayName": "",
      "photoUrl": "",
      "userId": ""
     },
     "user_tz": 240
    },
    "id": "L7gd-MqEH2da"
   },
   "outputs": [],
   "source": [
    "class Adam:\n",
    "\n",
    "  def __init__(self, lr, beta1=0.9, beta2=0.999, epsilon=1e-8):\n",
    "    self.lr = lr\n",
    "    self.beta1 = beta1\n",
    "    self.beta2 = beta2\n",
    "    self.epsilon = epsilon\n",
    "\n",
    "  def init(self, params):\n",
    "    return (tuple(params), jnp.asarray(0),\n",
    "            tuple([jnp.zeros_like(p) for p in params]),\n",
    "            tuple([jnp.zeros_like(p) for p in params]))\n",
    "\n",
    "  @functools.partial(jax.jit, static_argnums=(0,))\n",
    "  def update(self, state, grads):\n",
    "    params, iteration, momentum, rms = state\n",
    "    iteration += 1\n",
    "    momentum = tuple([\n",
    "        m * self.beta1 + (1 - self.beta1) * g for m, g in zip(momentum, grads)\n",
    "    ])\n",
    "    rms = tuple([\n",
    "        v * self.beta2 + (1 - self.beta2) * (g**2) for v, g in zip(rms, grads)\n",
    "    ])\n",
    "    mhat = [m / (1 - self.beta1**iteration) for m in momentum]\n",
    "    vhat = [v / (1 - self.beta2**iteration) for v in rms]\n",
    "    params = tuple([\n",
    "        p - self.lr * m / (jnp.sqrt(v) + self.epsilon)\n",
    "        for p, m, v in zip(params, mhat, vhat)\n",
    "    ])\n",
    "    return (params, iteration, momentum, rms)"
   ]
  },
  {
   "cell_type": "markdown",
   "metadata": {
    "id": "VfBmLGVdrQKo"
   },
   "source": [
    "## Learned optimizers\n",
    "\n",
    "A learned optimizer is simply an optimizer which is itself some function of meta-parameters. The actual function can be anything ranging from more fixed form, to more exotic with the meta-parameters encoding neural network weights.\n",
    "\n",
    "### Per parameter learned optimizers\n",
    "The family of learned optimizer we will explore in this notebook is \"per parameter\". What this means, is that the update function operates on each parameter independently.\n",
    "\n",
    "In our case, the learned optimizer will operate on the parameter value, the gradient value, and momentum. These values get fed into a neural network. This neural network produces 2 outputs: $a$, $b$. These outputs are combined to produce a change in the inner parameters:\n",
    "\n",
    "$$\\Delta w = 0.001 \\cdot a \\cdot \\text{exp}(0.001 \\cdot b)$$\n",
    "\n",
    "We use this formulation, as opposed to simply outputting a direct value, as empirically it is easier to meta-train.\n",
    "\n",
    "Choosing input parameterizations, and output parameterizations varies across learned optimizer architecture and paper."
   ]
  },
  {
   "cell_type": "code",
   "execution_count": 10,
   "metadata": {
    "executionInfo": {
     "elapsed": 53,
     "status": "ok",
     "timestamp": 1647716630098,
     "user": {
      "displayName": "",
      "photoUrl": "",
      "userId": ""
     },
     "user_tz": 240
    },
    "id": "ymF3QnR0-UdM"
   },
   "outputs": [],
   "source": [
    "class LOpt:\n",
    "\n",
    "  def __init__(self, decay=0.9):\n",
    "    self.decay = decay\n",
    "    self.hidden_size = 64\n",
    "\n",
    "  def init_meta_params(self, key):\n",
    "    \"\"\"Initialize the learned optimizer weights -- in this case the weights of\n",
    "\n",
    "    the per parameter mlp.\n",
    "    \"\"\"\n",
    "    key1, key2 = jax.random.split(key)\n",
    "    input_feats = 3  # parameter value, momentum value, and gradient value\n",
    "\n",
    "    # the optimizer is a 2 hidden layer MLP.\n",
    "    w0 = jax.random.normal(key1, [input_feats, self.hidden_size])\n",
    "    b0 = jnp.zeros([self.hidden_size])\n",
    "\n",
    "    w1 = jax.random.normal(key2, [self.hidden_size, 2])\n",
    "    b1 = jnp.zeros([2])\n",
    "    return (w0, b0, w1, b1)\n",
    "\n",
    "  def initial_inner_opt_state(self, meta_params, params):\n",
    "    # The inner opt state contains the parameter values, and the momentum values.\n",
    "    momentum = [jnp.zeros_like(p) for p in params]\n",
    "    return tuple(params), tuple(momentum)\n",
    "\n",
    "  @functools.partial(jax.jit, static_argnums=(0,))\n",
    "  def update_inner_opt_state(self, meta_params, inner_opt_state, inner_grads):\n",
    "    \"Perform 1 step of learning using the learned optimizer.\" \"\"\n",
    "    params, momentum = inner_opt_state\n",
    "\n",
    "    # compute momentum\n",
    "    momentum = [\n",
    "        m * self.decay + (g * (1 - self.decay))\n",
    "        for m, g in zip(momentum, inner_grads)\n",
    "    ]\n",
    "\n",
    "    def predict_step(features):\n",
    "      \"\"\"Predict the update for a single ndarray.\"\"\"\n",
    "      w0, b0, w1, b1 = meta_params\n",
    "      outs = jax.nn.relu(features @ w0 + b0) @ w1 + b1\n",
    "      # slice out the last 2 elements\n",
    "      scale = outs[..., 0]\n",
    "      mag = outs[..., 1]\n",
    "      # Compute a step as follows.\n",
    "      return scale * 0.01 * jnp.exp(mag * 0.01)\n",
    "\n",
    "    out_params = []\n",
    "    for p, m, g in zip(params, momentum, inner_grads):\n",
    "      features = jnp.asarray([p, m, g])\n",
    "      # transpose to have features dim last. The MLP will operate on this,\n",
    "      # and treat the leading dimensions as a batch dimension.\n",
    "      features = jnp.transpose(features, list(range(1, 1 + len(p.shape))) + [0])\n",
    "\n",
    "      step = predict_step(features)\n",
    "      out_params.append(p - step)\n",
    "\n",
    "    return tuple(out_params), tuple(momentum)"
   ]
  },
  {
   "cell_type": "markdown",
   "metadata": {
    "id": "WH9_EHD6rfrL"
   },
   "source": [
    "We can now randomly init the meta-parameters a few times and apply it to our target task and see what we get.\n",
    "\n",
    "Unsurprisingly, our randomly initialized learned optimizer doesn't do all that well at training our target problem. Many of them even diverge / nan."
   ]
  },
  {
   "cell_type": "code",
   "execution_count": 39,
   "metadata": {
    "colab": {
     "height": 300
    },
    "executionInfo": {
     "elapsed": 2701,
     "status": "ok",
     "timestamp": 1647716865746,
     "user": {
      "displayName": "",
      "photoUrl": "",
      "userId": ""
     },
     "user_tz": 240
    },
    "id": "iJ_uf9uwDASS",
    "outputId": "08ef3727-489c-4b2c-eee4-7532dbf6392d"
   },
   "outputs": [
    {
     "data": {
      "text/plain": [
       "Text(0, 0.5, 'inner loss')"
      ]
     },
     "execution_count": 39,
     "metadata": {},
     "output_type": "execute_result"
    },
    {
     "data": {
      "image/png": "[encoded data removed]",
      "text/plain": [
       "<Figure size 600x400 with 1 Axes>"
      ]
     },
     "metadata": {},
     "output_type": "display_data"
    }
   ],
   "source": [
    "lopt = LOpt()\n",
    "for i in range(5):\n",
    "  losses = []\n",
    "  key = jax.random.PRNGKey(i)\n",
    "  meta_params = lopt.init_meta_params(key)\n",
    "\n",
    "  key = jax.random.PRNGKey(0)\n",
    "  params = task.init(key)\n",
    "  opt_state = lopt.initial_inner_opt_state(meta_params, params)\n",
    "\n",
    "  num_steps = int(os.environ.get(\"LOPT_TRAIN_LENGTH\", 1000))\n",
    "  for i in range(num_steps):\n",
    "    batch = next(data_iterator)\n",
    "    loss, grads = value_grad_fn(opt_state[0], batch)\n",
    "    opt_state = lopt.update_inner_opt_state(meta_params, opt_state, grads)\n",
    "    losses.append(loss)\n",
    "  plt.plot(losses)\n",
    "plt.ylim(0, 4)\n",
    "plt.xlabel(\"inner step\")\n",
    "plt.ylabel(\"inner loss\")"
   ]
  },
  {
   "cell_type": "markdown",
   "metadata": {
    "id": "FH1b4PfrDFcH"
   },
   "source": [
    "## Meta-loss: Measuring the performance of the learned optimizer.\n",
    "\n",
    "Now we must define our measurement of performance for our learned optimizers. For this, we will define a meta_loss function. This function takes in as inputs the weights of the meta-parameters, initializes the weights of the inner-problem, and performs some number of steps of inner-training using a learned optimizer and the passed in meta-parameters. Each step we return the training loss, and use this average loss as the meta-loss. Depending on what we use, e.g. different unroll lengths, or different objectives (such as returning just loss at the end of training, or validation loss) we will get different behaving optimizers."
   ]
  },
  {
   "cell_type": "code",
   "execution_count": 12,
   "metadata": {
    "executionInfo": {
     "elapsed": 699,
     "status": "ok",
     "timestamp": 1647716634001,
     "user": {
      "displayName": "",
      "photoUrl": "",
      "userId": ""
     },
     "user_tz": 240
    },
    "id": "D_7V3TQHD5Ju",
    "outputId": "73b63800-2b6b-4f4c-f507-1b1ef8105b4b"
   },
   "outputs": [
    {
     "data": {
      "text/plain": [
       "DeviceArray(2.2990375, dtype=float32)"
      ]
     },
     "execution_count": 12,
     "metadata": {},
     "output_type": "execute_result"
    }
   ],
   "source": [
    "lopt = LOpt()\n",
    "\n",
    "\n",
    "def get_batch_seq(seq_len):\n",
    "  batches = [next(data_iterator) for _ in range(seq_len)]\n",
    "  # stack the data to add a leading dim.\n",
    "  return {\n",
    "      \"image\": jnp.asarray([b[\"image\"] for b in batches]),\n",
    "      \"label\": jnp.asarray([b[\"label\"] for b in batches])\n",
    "  }\n",
    "\n",
    "\n",
    "@jax.jit\n",
    "def meta_loss(meta_params, key, sequence_of_batches):\n",
    "\n",
    "  def step(opt_state, batch):\n",
    "    loss, grads = value_grad_fn(opt_state[0], batch)\n",
    "    opt_state = lopt.update_inner_opt_state(meta_params, opt_state, grads)\n",
    "    return opt_state, loss\n",
    "\n",
    "  params = task.init(key)\n",
    "  opt_state = lopt.initial_inner_opt_state(meta_params, params)\n",
    "  # Iterate N times where N is the number of batches in sequence_of_batches\n",
    "  opt_state, losses = jax.lax.scan(step, opt_state, sequence_of_batches)\n",
    "\n",
    "  return jnp.mean(losses)\n",
    "\n",
    "\n",
    "key = jax.random.PRNGKey(0)\n",
    "meta_loss(meta_params, key, get_batch_seq(10))"
   ]
  },
  {
   "cell_type": "code",
   "execution_count": 12,
   "metadata": {
    "executionInfo": {
     "elapsed": 2,
     "status": "ok",
     "timestamp": 1647716634110,
     "user": {
      "displayName": "",
      "photoUrl": "",
      "userId": ""
     },
     "user_tz": 240
    },
    "id": "NGHImLJ9FcjO"
   },
   "outputs": [],
   "source": []
  },
  {
   "cell_type": "markdown",
   "metadata": {
    "id": "EFeC6wiTtYPu"
   },
   "source": [
    "## Meta-training with Gradients\n",
    "Meta-training means training the weights of the learned optimizer to perform well in some setting. There are a lot of ways to do this optimization problem. We will run through a few different examples here.\n",
    "\n",
    "\n",
    "One of the most conceptually simple way to meta-train is to do so with gradients. In particular, the gradients of the meta-loss with respect to the meta-parameters.\n",
    "\n",
    "Te will use our meta-loss and `jax.value_and_grad` to compute gradients. For this simple example, we will use the average training loss over 10 applications of the learned optimizer as our meta-loss."
   ]
  },
  {
   "cell_type": "code",
   "execution_count": 13,
   "metadata": {
    "executionInfo": {
     "elapsed": 2555,
     "status": "ok",
     "timestamp": 1647716636790,
     "user": {
      "displayName": "",
      "photoUrl": "",
      "userId": ""
     },
     "user_tz": 240
    },
    "id": "hQtTvMmnFAFb"
   },
   "outputs": [],
   "source": [
    "key = jax.random.PRNGKey(0)\n",
    "meta_value_grad_fn = jax.jit(jax.value_and_grad(meta_loss))\n",
    "loss, meta_grad = meta_value_grad_fn(meta_params, key, get_batch_seq(10))"
   ]
  },
  {
   "cell_type": "markdown",
   "metadata": {
    "id": "rgY-bMy1I-p_"
   },
   "source": [
    "We can use this meta-gradient, with Adam to update the weights of our learned optimizer."
   ]
  },
  {
   "cell_type": "code",
   "execution_count": 14,
   "metadata": {
    "executionInfo": {
     "elapsed": 2078,
     "status": "ok",
     "timestamp": 1647716638983,
     "user": {
      "displayName": "",
      "photoUrl": "",
      "userId": ""
     },
     "user_tz": 240
    },
    "id": "Bh0v3tZcFSeJ",
    "outputId": "8a214403-0cb8-446a-953d-e13e9f337217"
   },
   "outputs": [
    {
     "name": "stdout",
     "output_type": "stream",
     "text": [
      "2.2990098\n",
      "2.2865815\n",
      "2.263659\n",
      "2.2415566\n",
      "2.2126753\n",
      "2.1844268\n",
      "2.1526406\n",
      "2.1231513\n",
      "2.0907454\n",
      "2.0569248\n",
      "2.0191243\n",
      "2.0076103\n",
      "1.9771802\n",
      "1.9669901\n",
      "1.9574435\n"
     ]
    }
   ],
   "source": [
    "meta_opt = Adam(0.001)\n",
    "key = jax.random.PRNGKey(0)\n",
    "meta_params = lopt.init_meta_params(key)\n",
    "meta_opt_state = meta_opt.init(meta_params)\n",
    "meta_losses = []\n",
    "\n",
    "num_steps = int(os.environ.get(\"LOPT_TRAIN_LENGTH\", 300))\n",
    "for i in range(num_steps):\n",
    "  data = get_batch_seq(10)\n",
    "  key1, key = jax.random.split(key)\n",
    "  loss, meta_grad = meta_value_grad_fn(meta_opt_state[0], key1, data)\n",
    "  meta_losses.append(loss)\n",
    "  if i % 20 == 0:\n",
    "    print(onp.mean(meta_losses[-20:]))\n",
    "  meta_opt_state = meta_opt.update(meta_opt_state, meta_grad)"
   ]
  },
  {
   "cell_type": "code",
   "execution_count": 15,
   "metadata": {
    "colab": {
     "height": 296
    },
    "executionInfo": {
     "elapsed": 147,
     "status": "ok",
     "timestamp": 1647716639240,
     "user": {
      "displayName": "",
      "photoUrl": "",
      "userId": ""
     },
     "user_tz": 240
    },
    "id": "r8-fAIqGI6X2",
    "outputId": "94ea45b3-7199-4ef8-97a4-13cf5d0e6cd3"
   },
   "outputs": [
    {
     "data": {
      "text/plain": [
       "Text(0, 0.5, 'meta-loss')"
      ]
     },
     "execution_count": 15,
     "metadata": {},
     "output_type": "execute_result"
    },
    {
     "data": {
      "image/png": "[encoded data removed]",
      "text/plain": [
       "<Figure size 600x400 with 1 Axes>"
      ]
     },
     "metadata": {},
     "output_type": "display_data"
    }
   ],
   "source": [
    "plt.plot(meta_losses)\n",
    "plt.xlabel(\"meta-iteration\")\n",
    "plt.ylabel(\"meta-loss\")"
   ]
  },
  {
   "cell_type": "markdown",
   "metadata": {
    "id": "D5hgIM4STRQ3"
   },
   "source": [
    "Our meta-loss is decreasing which means our learned optimizer is learning to perform well on the meta-loss which means it is able to optimize our inner problem. Let's see what it learned to do by applying it to some target problem."
   ]
  },
  {
   "cell_type": "code",
   "execution_count": 16,
   "metadata": {
    "colab": {
     "height": 296
    },
    "executionInfo": {
     "elapsed": 436,
     "status": "ok",
     "timestamp": 1647716639849,
     "user": {
      "displayName": "",
      "photoUrl": "",
      "userId": ""
     },
     "user_tz": 240
    },
    "id": "hpkbGP89JH45",
    "outputId": "17dfb41c-c701-4e7d-ae2b-0e05841df9c1"
   },
   "outputs": [
    {
     "data": {
      "text/plain": [
       "Text(0, 0.5, 'loss')"
      ]
     },
     "execution_count": 16,
     "metadata": {},
     "output_type": "execute_result"
    },
    {
     "data": {
      "image/png": "[encoded data removed]",
      "text/plain": [
       "<Figure size 600x400 with 1 Axes>"
      ]
     },
     "metadata": {},
     "output_type": "display_data"
    }
   ],
   "source": [
    "meta_params = meta_opt_state[0]\n",
    "\n",
    "for j in range(10):\n",
    "  losses = []\n",
    "  key = jax.random.PRNGKey(j)\n",
    "  params = task.init(key)\n",
    "  opt_state = lopt.initial_inner_opt_state(meta_params, params)\n",
    "\n",
    "  for i in range(10):\n",
    "    batch = next(data_iterator)\n",
    "    loss, grads = value_grad_fn(opt_state[0], batch)\n",
    "    opt_state = lopt.update_inner_opt_state(meta_params, opt_state, grads)\n",
    "    losses.append(loss)\n",
    "  plt.plot(losses)\n",
    "  plt.ylim(1.0, 2.3)\n",
    "plt.xlabel(\"inner-iteration\")\n",
    "plt.ylabel(\"loss\")"
   ]
  },
  {
   "cell_type": "markdown",
   "metadata": {
    "id": "9hMBooBKTxy5"
   },
   "source": [
    "We can see our optimizer works, and is able to optimize for these first 10 steps."
   ]
  },
  {
   "cell_type": "markdown",
   "metadata": {
    "id": "oOTPnSM5m8pV"
   },
   "source": [
    "## Vectorization: Speeding up Meta-training\n",
    "\n",
    "The above example, we are training a single problem instance for 10 iterations, and using this single training to compute meta-gradients. Oftentimes we seek to compute meta-gradients from more than one problem or to average over multiple random initializations / batches of data. To do this, we will leverage `jax.vmap`.\n",
    "\n",
    "We will define a vectorized meta-loss, which computes the original `meta_loss` function in parallel, then averages the losses. We can then call `jax.value_and_grad` on this function to compute meta-gradients which are the average of these samples.\n",
    "\n",
    "One big advantage to vectorizing in this way is to make better use of hardware accelerators. When training learned optimizers, we often apply them to small problems for speedy meta-training. These small problems can be a poor fit for the underlying hardware which often consists of big matrix multiplication units. What vectorization does compute multiple of these small problems *at the same time*, which, depending on the details, can be considerably faster."
   ]
  },
  {
   "cell_type": "code",
   "execution_count": 17,
   "metadata": {
    "executionInfo": {
     "elapsed": 3598,
     "status": "ok",
     "timestamp": 1647716643584,
     "user": {
      "displayName": "",
      "photoUrl": "",
      "userId": ""
     },
     "user_tz": 240
    },
    "id": "8qud5EuWniIF"
   },
   "outputs": [],
   "source": [
    "def get_vec_batch_seq(vec_size, seq_len):\n",
    "  batches = [get_batch_seq(seq_len) for _ in range(vec_size)]\n",
    "  # stack them\n",
    "  return {\n",
    "      \"image\": jnp.asarray([b[\"image\"] for b in batches]),\n",
    "      \"label\": jnp.asarray([b[\"label\"] for b in batches])\n",
    "  }\n",
    "\n",
    "\n",
    "def vectorized_meta_loss(meta_params, key, sequence_of_batches):\n",
    "  vec_loss = jax.vmap(\n",
    "      meta_loss, in_axes=(None, 0, 0))(meta_params, key, sequence_of_batches)\n",
    "  return jnp.mean(vec_loss)\n",
    "\n",
    "\n",
    "vec_meta_loss_grad = jax.jit(jax.value_and_grad(vectorized_meta_loss))\n",
    "vec_sec_batch = get_vec_batch_seq(4, 10)\n",
    "keys = jax.random.split(key, 4)\n",
    "loses, meta_grad = vec_meta_loss_grad(meta_params, keys, vec_sec_batch)"
   ]
  },
  {
   "cell_type": "markdown",
   "metadata": {
    "id": "C2cz28gppua9"
   },
   "source": [
    "And now we can meta-train with this vectorized loss similarly to before."
   ]
  },
  {
   "cell_type": "code",
   "execution_count": 18,
   "metadata": {
    "executionInfo": {
     "elapsed": 8431,
     "status": "ok",
     "timestamp": 1647716652129,
     "user": {
      "displayName": "",
      "photoUrl": "",
      "userId": ""
     },
     "user_tz": 240
    },
    "id": "TfZvfCJ_uGTp",
    "outputId": "a8156fa1-4d03-40cc-a961-d570f425ec54"
   },
   "outputs": [
    {
     "name": "stdout",
     "output_type": "stream",
     "text": [
      "2.3015163\n",
      "2.2858846\n",
      "2.262492\n",
      "2.2396119\n",
      "2.2089443\n",
      "2.1768482\n",
      "2.1378422\n",
      "2.0993867\n",
      "2.0581489\n",
      "2.0262241\n"
     ]
    }
   ],
   "source": [
    "meta_opt = Adam(0.001)\n",
    "key = jax.random.PRNGKey(0)\n",
    "meta_params = lopt.init_meta_params(key)\n",
    "meta_opt_state = meta_opt.init(meta_params)\n",
    "meta_losses = []\n",
    "num_steps = int(os.environ.get(\"LOPT_TRAIN_LENGTH\", 200))\n",
    "for i in range(num_steps):\n",
    "  data = get_vec_batch_seq(8, 10)\n",
    "  key1, key = jax.random.split(key)\n",
    "  keys = jax.random.split(key1, 8)\n",
    "  loss, meta_grad = vec_meta_loss_grad(meta_opt_state[0], keys, data)\n",
    "  meta_losses.append(loss)\n",
    "  if i % 20 == 0:\n",
    "    print(onp.mean(meta_losses[-20:]))\n",
    "  meta_opt_state = meta_opt.update(meta_opt_state, meta_grad)"
   ]
  },
  {
   "cell_type": "code",
   "execution_count": 19,
   "metadata": {
    "colab": {
     "height": 282
    },
    "executionInfo": {
     "elapsed": 189,
     "status": "ok",
     "timestamp": 1647716652440,
     "user": {
      "displayName": "",
      "photoUrl": "",
      "userId": ""
     },
     "user_tz": 240
    },
    "id": "vLBEKi6WuTcx",
    "outputId": "215a253b-831a-4f2e-d477-e27e530ba220"
   },
   "outputs": [
    {
     "data": {
      "text/plain": [
       "[<matplotlib.lines.Line2D at 0x7f4060a6afd0>]"
      ]
     },
     "execution_count": 19,
     "metadata": {},
     "output_type": "execute_result"
    },
    {
     "data": {
      "image/png": "[encoded data removed]",
      "text/plain": [
       "<Figure size 600x400 with 1 Axes>"
      ]
     },
     "metadata": {},
     "output_type": "display_data"
    }
   ],
   "source": [
    "plt.plot(meta_losses)"
   ]
  },
  {
   "cell_type": "markdown",
   "metadata": {
    "id": "W9Ao4iSNnl16"
   },
   "source": [
    "## Evolutionary Strategies (ES): Meta-training without meta-gradients\n",
    "Computing gradients through long optimization procedures can sometimes lead to chaotic dynamics, and result in exploding gradients. See [https://arxiv.org/abs/1810.10180](https://arxiv.org/abs/1810.10180) and [https://arxiv.org/abs/2111.05803](https://arxiv.org/abs/2111.05803) for more info.\n",
    "\n",
    "An alternative is to leverage black box optimization techniques. A method we found that works well is evolutionary strategies with antithetic samples. This estimator can be thought of as a randomized finite difference. We sample a random direction in the meta-parameters, compute the meta-loss when shifting in this direction, and in the negative of this direction, and move in the direction which lowers the loss. The estimator can be written as:\n",
    "\n",
    "$$\\nabla_\\theta = \\mathbb{E}_{\\epsilon \\sim \\mathcal{N}(0, I\\sigma)} \\dfrac{\\epsilon}{2 \\sigma ^2} (L(\\theta + \\epsilon) - L(\\theta - \\epsilon))$$\n",
    "\n",
    "where $L$ is the meta-loss.\n",
    "\n",
    "As before, we will construct a vectorized version of these estimators to average over a number of different random directions."
   ]
  },
  {
   "cell_type": "code",
   "execution_count": 20,
   "metadata": {
    "executionInfo": {
     "elapsed": 2115,
     "status": "ok",
     "timestamp": 1647716654716,
     "user": {
      "displayName": "",
      "photoUrl": "",
      "userId": ""
     },
     "user_tz": 240
    },
    "id": "KHd6Sf0mu_CZ"
   },
   "outputs": [],
   "source": [
    "def antithetic_es_estimate(meta_params, key, seq_of_batches):\n",
    "  \"\"\"Compute a ES estimated gradient along a single direction.\"\"\"\n",
    "  std = 0.001\n",
    "  keys = jax.random.split(key, len(meta_params))\n",
    "  noise = [\n",
    "      jax.random.normal(keys[i], p.shape) * std\n",
    "      for i, p in enumerate(meta_params)\n",
    "  ]\n",
    "  meta_params_pos = [p + n for p, n in zip(meta_params, noise)]\n",
    "  meta_params_neg = [p - n for p, n in zip(meta_params, noise)]\n",
    "\n",
    "  pos_loss = meta_loss(meta_params_pos, key, seq_of_batches)\n",
    "  neg_loss = meta_loss(meta_params_neg, key, seq_of_batches)\n",
    "\n",
    "  factor = (pos_loss - neg_loss) / (2 * std**2)\n",
    "  es_grads = [factor * n for n in noise]\n",
    "  return (pos_loss + neg_loss) / 2.0, es_grads\n",
    "\n",
    "\n",
    "@jax.jit\n",
    "def vec_antithetic_es_estimate(meta_params, keys, vec_seq_batches):\n",
    "  \"\"\"Compute a ES estimated gradient along multiple directions.\"\"\"\n",
    "  losses, grads = jax.vmap(\n",
    "      antithetic_es_estimate, in_axes=(None, 0, 0))(meta_params, keys,\n",
    "                                                    vec_seq_batches)\n",
    "  return jnp.mean(losses), [jnp.mean(g, axis=0) for g in grads]\n",
    "\n",
    "\n",
    "keys = jax.random.split(key, 8)\n",
    "vec_sec_batch = get_vec_batch_seq(8, 10)\n",
    "loss, es_grads = vec_antithetic_es_estimate(meta_params, keys, vec_sec_batch)"
   ]
  },
  {
   "cell_type": "markdown",
   "metadata": {
    "id": "nXqXfO1QquBY"
   },
   "source": [
    "We can use a similar meta-training procedure as before now with this new gradient estimator."
   ]
  },
  {
   "cell_type": "code",
   "execution_count": 21,
   "metadata": {
    "executionInfo": {
     "elapsed": 18328,
     "status": "ok",
     "timestamp": 1647716673161,
     "user": {
      "displayName": "",
      "photoUrl": "",
      "userId": ""
     },
     "user_tz": 240
    },
    "id": "QAte_Dm3wg-9",
    "outputId": "cefff89b-82db-406f-f961-5041d1dfe8d1"
   },
   "outputs": [
    {
     "name": "stdout",
     "output_type": "stream",
     "text": [
      "2.3011694\n",
      "2.2831185\n",
      "2.2696424\n",
      "2.256878\n",
      "2.246539\n",
      "2.2384717\n",
      "2.229327\n",
      "2.2206445\n",
      "2.213926\n",
      "2.2045903\n"
     ]
    }
   ],
   "source": [
    "meta_opt = Adam(0.003)\n",
    "key = jax.random.PRNGKey(0)\n",
    "meta_params = lopt.init_meta_params(key)\n",
    "meta_opt_state = meta_opt.init(meta_params)\n",
    "meta_losses = []\n",
    "n_particles = 32\n",
    "\n",
    "num_steps = int(os.environ.get(\"LOPT_TRAIN_LENGTH\", 200))\n",
    "for i in range(num_steps):\n",
    "  data = get_vec_batch_seq(n_particles, 10)\n",
    "  key1, key = jax.random.split(key)\n",
    "  keys = jax.random.split(key1, n_particles)\n",
    "  loss, meta_grad = vec_antithetic_es_estimate(meta_opt_state[0], keys, data)\n",
    "  meta_losses.append(loss)\n",
    "  if i % 20 == 0:\n",
    "    print(onp.mean(meta_losses[-20:]))\n",
    "\n",
    "  meta_opt_state = meta_opt.update(meta_opt_state, meta_grad)"
   ]
  },
  {
   "cell_type": "code",
   "execution_count": 22,
   "metadata": {
    "colab": {
     "height": 282
    },
    "executionInfo": {
     "elapsed": 137,
     "status": "ok",
     "timestamp": 1647716673416,
     "user": {
      "displayName": "",
      "photoUrl": "",
      "userId": ""
     },
     "user_tz": 240
    },
    "id": "X_fqy1t-xzJ_",
    "outputId": "dcbdd3d6-77d1-44fc-d806-9b15e2eedca1"
   },
   "outputs": [
    {
     "data": {
      "text/plain": [
       "[<matplotlib.lines.Line2D at 0x7f4060829250>]"
      ]
     },
     "execution_count": 22,
     "metadata": {},
     "output_type": "execute_result"
    },
    {
     "data": {
      "image/png": "[encoded data removed]",
      "text/plain": [
       "<Figure size 600x400 with 1 Axes>"
      ]
     },
     "metadata": {},
     "output_type": "display_data"
    }
   ],
   "source": [
    "plt.plot(meta_losses)"
   ]
  },
  {
   "cell_type": "markdown",
   "metadata": {
    "id": "64YicoxfJtZG"
   },
   "source": [
    "## Meta-training with Truncated backprop through time\n",
    "In the previous meta-training examples, in the meta-loss we always initialized the inner-problem and apply the optimizer for some fixed number of steps.\n",
    "\n",
    "This is fine for short inner-problem training times, it becomes costly for longer numbers of inner-iterations.\n",
    "Truncated backprop through time, and more generally truncated meta-training techniques are one solution to this. The core idea is to split up one longer sequence into smaller chunks and compute meta-gradients only within a chunk. This allows one to compute gradients faster -- each chunk we get a gradient estimate, but these methods are generally biased as we ignore how the chunks interact with each other.\n",
    "\n",
    "The code for this is a bit more involved. First, we need to keep track of each inner problem. In our case, this means keeping track of the inner problems optimizer state, as well as the current training iteration. Next, we must check if we are at the end of an inner-training. We fix the length of the inner training to be 100 for this example. We can then define a function (`short_segment_unroll`) which both progresses training by some number of steps,\n",
    "and return the loss from that segment."
   ]
  },
  {
   "cell_type": "code",
   "execution_count": 23,
   "metadata": {
    "executionInfo": {
     "elapsed": 693,
     "status": "ok",
     "timestamp": 1647716674268,
     "user": {
      "displayName": "",
      "photoUrl": "",
      "userId": ""
     },
     "user_tz": 240
    },
    "id": "ri9wWMPizb-G",
    "outputId": "6025ce7a-98e5-459a-e1a7-6e19792056d0"
   },
   "outputs": [
    {
     "data": {
      "text/plain": [
       "DeviceArray(10, dtype=int32, weak_type=True)"
      ]
     },
     "execution_count": 23,
     "metadata": {},
     "output_type": "execute_result"
    }
   ],
   "source": [
    "def short_segment_unroll(meta_params,\n",
    "                         key,\n",
    "                         inner_opt_state,\n",
    "                         on_iteration,\n",
    "                         seq_of_batches,\n",
    "                         inner_problem_length=100):\n",
    "\n",
    "  def step(scan_state, batch):\n",
    "    opt_state, i, key = scan_state\n",
    "\n",
    "    # If we have trained more than 100 steps, reset the inner problem.\n",
    "    key1, key = jax.random.split(key)\n",
    "    opt_state, i = jax.lax.cond(\n",
    "        i >= inner_problem_length, lambda k:\n",
    "        (lopt.initial_inner_opt_state(meta_params, task.init(k)), 0), lambda k:\n",
    "        (opt_state, i + 1), key)\n",
    "\n",
    "    loss, grads = value_grad_fn(opt_state[0], batch)\n",
    "    opt_state = lopt.update_inner_opt_state(meta_params, opt_state, grads)\n",
    "\n",
    "    # clip the loss to prevent diverging inner models\n",
    "    loss = jax.lax.cond(\n",
    "        jnp.isnan(loss), lambda loss: 3.0, lambda loss: jnp.minimum(loss, 3.0),\n",
    "        loss)\n",
    "\n",
    "    return (opt_state, i, key), loss\n",
    "\n",
    "  (inner_opt_state, on_iteration,\n",
    "   _), losses = jax.lax.scan(step, (inner_opt_state, on_iteration, key),\n",
    "                             seq_of_batches)\n",
    "\n",
    "  return losses, inner_opt_state, on_iteration\n",
    "\n",
    "\n",
    "inner_opt_state = lopt.initial_inner_opt_state(meta_params, task.init(key))\n",
    "batch = get_batch_seq(10)\n",
    "\n",
    "loss, inner_opt_state, on_iteration = short_segment_unroll(\n",
    "    meta_params, key, inner_opt_state, 0, batch)\n",
    "on_iteration"
   ]
  },
  {
   "cell_type": "markdown",
   "metadata": {
    "id": "EBYgsPmn0-6E"
   },
   "source": [
    "Now with this function, we are free to estimate gradients over just this one short unroll rather than the full inner-training. We can use whatever gradient estimator we want -- either ES, or with backprop gradients -- but for now I will show an example with backprop gradients.\n",
    "\n",
    "As before, we construct a vectorized version of this unroll function, and compute gradients with `jax.value_and_grad`."
   ]
  },
  {
   "cell_type": "code",
   "execution_count": 24,
   "metadata": {
    "executionInfo": {
     "elapsed": 3,
     "status": "ok",
     "timestamp": 1647716674380,
     "user": {
      "displayName": "",
      "photoUrl": "",
      "userId": ""
     },
     "user_tz": 240
    },
    "id": "xJRkyAX_1Oge"
   },
   "outputs": [],
   "source": [
    "def vec_short_segment_unroll(meta_params,\n",
    "                             keys,\n",
    "                             inner_opt_states,\n",
    "                             on_iterations,\n",
    "                             vec_seq_of_batches,\n",
    "                             inner_problem_length=100):\n",
    "  losses, inner_opt_states, on_iterations = jax.vmap(\n",
    "      short_segment_unroll,\n",
    "      in_axes=(None, 0, 0, 0, 0, None))(meta_params, keys, inner_opt_states,\n",
    "                                        on_iterations, vec_seq_of_batches,\n",
    "                                        inner_problem_length)\n",
    "  return jnp.mean(losses), (inner_opt_states, on_iterations)\n",
    "\n",
    "\n",
    "vec_short_segment_grad = jax.jit(\n",
    "    jax.value_and_grad(vec_short_segment_unroll, has_aux=True))"
   ]
  },
  {
   "cell_type": "markdown",
   "metadata": {
    "id": "QYrO5_ik1vbm"
   },
   "source": [
    "We can then use this function to compute meta-gradients. Before doing that though, we must setup the initial state (parameter values and optimizer state) of the problems being trained."
   ]
  },
  {
   "cell_type": "code",
   "execution_count": 25,
   "metadata": {
    "executionInfo": {
     "elapsed": 826,
     "status": "ok",
     "timestamp": 1647716675325,
     "user": {
      "displayName": "",
      "photoUrl": "",
      "userId": ""
     },
     "user_tz": 240
    },
    "id": "iw2i_2kLsFRf"
   },
   "outputs": [],
   "source": [
    "#num_tasks = 32\n",
    "num_tasks = 16\n",
    "\n",
    "key = jax.random.PRNGKey(1)\n",
    "meta_params = lopt.init_meta_params(key)\n",
    "\n",
    "\n",
    "def init_single_inner_opt_state(key):\n",
    "  return lopt.initial_inner_opt_state(meta_params, task.init(key))\n",
    "\n",
    "\n",
    "keys = jax.random.split(key, num_tasks)\n",
    "inner_opt_states = jax.vmap(init_single_inner_opt_state)(keys)\n",
    "\n",
    "# Randomly set the initial iteration to prevent the tasks from running in lock step.\n",
    "on_iterations = jax.random.randint(key, [num_tasks], 0, 100)"
   ]
  },
  {
   "cell_type": "code",
   "execution_count": 26,
   "metadata": {
    "executionInfo": {
     "elapsed": 24333,
     "status": "ok",
     "timestamp": 1647716699782,
     "user": {
      "displayName": "",
      "photoUrl": "",
      "userId": ""
     },
     "user_tz": 240
    },
    "id": "Kgltlb7b1n1M",
    "outputId": "9cf9de7b-5171-4d8b-cea1-a4df07b61075"
   },
   "outputs": [
    {
     "name": "stdout",
     "output_type": "stream",
     "text": [
      "0 2.3025281\n",
      "20 2.302613\n",
      "40 2.302506\n",
      "60 2.2939959\n",
      "80 2.228974\n",
      "100 2.146706\n",
      "120 2.062469\n",
      "140 1.9681495\n",
      "160 1.8850164\n",
      "180 1.8478796\n",
      "200 1.8156666\n",
      "220 1.7869465\n",
      "240 1.7575241\n",
      "260 1.7495174\n",
      "280 1.7104518\n",
      "300 1.7048458\n",
      "320 1.6748368\n",
      "340 1.6512482\n",
      "360 1.6221116\n",
      "380 1.5998225\n"
     ]
    }
   ],
   "source": [
    "meta_opt = Adam(0.0001)\n",
    "meta_opt_state = meta_opt.init(meta_params)\n",
    "\n",
    "meta_losses = []\n",
    "\n",
    "num_steps = int(os.environ.get(\"LOPT_TRAIN_LENGTH\", 400))\n",
    "for i in range(num_steps):\n",
    "  data = get_vec_batch_seq(num_tasks, 10)\n",
    "  key1, key = jax.random.split(key)\n",
    "  keys = jax.random.split(key1, num_tasks)\n",
    "  (loss, (inner_opt_states, on_iterations)), meta_grad = vec_short_segment_grad(\n",
    "      meta_opt_state[0], keys, inner_opt_states, on_iterations, data)\n",
    "  meta_losses.append(loss)\n",
    "  if i % 20 == 0:\n",
    "    print(i, onp.mean(meta_losses[-20:]))\n",
    "  meta_opt_state = meta_opt.update(meta_opt_state, meta_grad)"
   ]
  },
  {
   "cell_type": "code",
   "execution_count": 27,
   "metadata": {
    "colab": {
     "height": 296
    },
    "executionInfo": {
     "elapsed": 191,
     "status": "ok",
     "timestamp": 1647716700105,
     "user": {
      "displayName": "",
      "photoUrl": "",
      "userId": ""
     },
     "user_tz": 240
    },
    "id": "6Br4uOBt66yf",
    "outputId": "c4f6530f-42b9-4910-aa24-b6ca56f830c3"
   },
   "outputs": [
    {
     "data": {
      "text/plain": [
       "Text(0, 0.5, 'meta-loss')"
      ]
     },
     "execution_count": 27,
     "metadata": {},
     "output_type": "execute_result"
    },
    {
     "data": {
      "image/png": "[encoded data removed]",
      "text/plain": [
       "<Figure size 600x400 with 1 Axes>"
      ]
     },
     "metadata": {},
     "output_type": "display_data"
    }
   ],
   "source": [
    "plt.plot(meta_losses)\n",
    "plt.xlabel(\"meta-iterations\")\n",
    "plt.ylabel(\"meta-loss\")"
   ]
  },
  {
   "cell_type": "markdown",
   "metadata": {
    "id": "4b_tUUU-LpIG"
   },
   "source": [
    "Our meta-loss is going down which is great! There is a periodic behavior to the loss as we are averaging over different positions in inner-training.\n",
    "For example, if we are averaging more samples from earlier in training, we will have higher loss.\n",
    "\n",
    "\n",
    "We can now apply our optimizer for 100 steps. We can see that the resulting optimizer optimizes for ~50 steps, and then diverages. This is an indication that meta-training could have been more successful. One can improve this by meta-training for longer, or with different hparams to improve this!"
   ]
  },
  {
   "cell_type": "code",
   "execution_count": 28,
   "metadata": {
    "colab": {
     "height": 269
    },
    "executionInfo": {
     "elapsed": 713,
     "status": "ok",
     "timestamp": 1647716700957,
     "user": {
      "displayName": "",
      "photoUrl": "",
      "userId": ""
     },
     "user_tz": 240
    },
    "id": "np2hiv0m4S1F",
    "outputId": "871d47a3-ec57-4acd-cdcd-f1a5eeacdfeb"
   },
   "outputs": [
    {
     "data": {
      "image/png": "[encoded data removed]",
      "text/plain": [
       "<Figure size 600x400 with 1 Axes>"
      ]
     },
     "metadata": {},
     "output_type": "display_data"
    }
   ],
   "source": [
    "meta_params = meta_opt_state[0]\n",
    "\n",
    "for j in range(10):\n",
    "  losses = []\n",
    "  key = jax.random.PRNGKey(j)\n",
    "  params = task.init(key)\n",
    "  opt_state = lopt.initial_inner_opt_state(meta_params, params)\n",
    "\n",
    "  num_steps = int(os.environ.get(\"LOPT_TRAIN_LENGTH\", 100))\n",
    "  for i in range(num_steps):\n",
    "    batch = next(data_iterator)\n",
    "    loss, grads = value_grad_fn(opt_state[0], batch)\n",
    "    opt_state = lopt.update_inner_opt_state(meta_params, opt_state, grads)\n",
    "    losses.append(loss)\n",
    "  plt.plot(losses)\n",
    "  plt.ylim(0.0, 2.5)"
   ]
  },
  {
   "cell_type": "markdown",
   "metadata": {
    "id": "tCyfmmax2_rp"
   },
   "source": [
    "## Meta-training truncated ES\n",
    "Next, instead of meta-training with truncated gradients, we will meta-train with truncated evolution strategies."
   ]
  },
  {
   "cell_type": "code",
   "execution_count": 29,
   "metadata": {
    "executionInfo": {
     "elapsed": 53,
     "status": "ok",
     "timestamp": 1647716701170,
     "user": {
      "displayName": "",
      "photoUrl": "",
      "userId": ""
     },
     "user_tz": 240
    },
    "id": "rxQbMHDf3Rfn"
   },
   "outputs": [],
   "source": [
    "@jax.jit\n",
    "def vec_short_segment_es(meta_param,\n",
    "                         keys,\n",
    "                         inner_opt_state,\n",
    "                         on_iterations,\n",
    "                         vec_seq_of_batches,\n",
    "                         std=0.01):\n",
    "  # Compute an es estimate on a single inner-problem\n",
    "  def do_one(meta_param, key, inner_opt_state, on_iteration, seq_of_batches):\n",
    "    # Sample random noise of the same shape as meta-parameters\n",
    "    flat_params, struct = jax.tree_util.tree_flatten(meta_param)\n",
    "    keys = [jax.random.fold_in(key, i) for i in range(len(flat_params))]\n",
    "    keys = jax.tree_util.tree_unflatten(struct, keys)\n",
    "    perturbs = jax.tree_util.tree_map(lambda k, v: jax.random.normal(k, v.shape) * std,\n",
    "                            keys, meta_param)\n",
    "\n",
    "    # compute positive and negative antithetic samples\n",
    "    pos_theta = jax.tree_util.tree_map(lambda eps, v: v + eps, perturbs, meta_param)\n",
    "    neg_theta = jax.tree_util.tree_map(lambda eps, v: v - eps, perturbs, meta_param)\n",
    "\n",
    "    # Apply both of the antithetic samples\n",
    "    p_losses, p_opt_state, p_on_iteration = short_segment_unroll(\n",
    "        pos_theta,\n",
    "        key,\n",
    "        inner_opt_state,\n",
    "        on_iteration,\n",
    "        seq_of_batches,\n",
    "        inner_problem_length=30)\n",
    "    n_losses, n_opt_state, n_on_iteration = short_segment_unroll(\n",
    "        neg_theta,\n",
    "        key,\n",
    "        inner_opt_state,\n",
    "        on_iteration,\n",
    "        seq_of_batches,\n",
    "        inner_problem_length=30)\n",
    "    p_loss = jnp.mean(p_losses)\n",
    "    n_loss = jnp.mean(n_losses)\n",
    "\n",
    "    # estimate gradient\n",
    "    es_grad = jax.tree_util.tree_map(lambda p: (p_loss - n_loss) * 1 / (2. * std) * p,\n",
    "                           perturbs)\n",
    "\n",
    "    return ((p_loss + n_loss) / 2.0, (p_opt_state, p_on_iteration)), es_grad\n",
    "\n",
    "  (loss, inner_opt_state), es_grad = jax.vmap(\n",
    "      do_one, in_axes=(None, 0, 0, 0, 0))(meta_param, keys, inner_opt_state,\n",
    "                                          on_iterations, vec_seq_of_batches)\n",
    "\n",
    "  # Gradient has an extra batch dimension here from the vmap -- reduce over this.\n",
    "  return (jnp.mean(loss),\n",
    "          inner_opt_state), jax.tree_util.tree_map(lambda x: jnp.mean(x, axis=0), es_grad)"
   ]
  },
  {
   "cell_type": "code",
   "execution_count": 30,
   "metadata": {
    "executionInfo": {
     "elapsed": 686,
     "status": "ok",
     "timestamp": 1647716701983,
     "user": {
      "displayName": "",
      "photoUrl": "",
      "userId": ""
     },
     "user_tz": 240
    },
    "id": "Hn1LFTrV3Rfo"
   },
   "outputs": [],
   "source": [
    "num_tasks = 32\n",
    "\n",
    "key = jax.random.PRNGKey(1)\n",
    "inner_opt_state = lopt.initial_inner_opt_state(meta_params, task.init(key))\n",
    "batch = get_batch_seq(10)\n",
    "\n",
    "meta_params = lopt.init_meta_params(key)\n",
    "\n",
    "\n",
    "def init_single_inner_opt_state(key):\n",
    "  return lopt.initial_inner_opt_state(meta_params, task.init(key))\n",
    "\n",
    "\n",
    "keys = jax.random.split(key, num_tasks)\n",
    "inner_opt_states = jax.vmap(init_single_inner_opt_state)(keys)\n",
    "\n",
    "# Randomly set the initial iteration to prevent the tasks from running in lock step.\n",
    "on_iterations = jax.random.randint(key, [num_tasks], 0, 30)"
   ]
  },
  {
   "cell_type": "code",
   "execution_count": 31,
   "metadata": {
    "executionInfo": {
     "elapsed": 32729,
     "status": "ok",
     "timestamp": 1647716734817,
     "user": {
      "displayName": "",
      "photoUrl": "",
      "userId": ""
     },
     "user_tz": 240
    },
    "id": "YmdqBmi83Rfo",
    "outputId": "a420fdd1-8d5d-4eab-f64e-aa0f99051eb9"
   },
   "outputs": [
    {
     "name": "stdout",
     "output_type": "stream",
     "text": [
      "0 2.3028803\n",
      "20 2.301912\n",
      "40 2.2743235\n",
      "60 2.2011428\n",
      "80 2.0796442\n",
      "100 1.9650596\n",
      "120 1.8779399\n",
      "140 1.8373306\n",
      "160 1.8046211\n",
      "180 1.7904768\n",
      "200 1.7764364\n",
      "220 1.7700386\n",
      "240 1.7758758\n",
      "260 1.773428\n",
      "280 1.7594522\n",
      "300 1.7603681\n",
      "320 1.7564806\n",
      "340 1.7545398\n",
      "360 1.744331\n",
      "380 1.7509981\n"
     ]
    }
   ],
   "source": [
    "meta_opt = Adam(0.001)\n",
    "meta_opt_state = meta_opt.init(meta_params)\n",
    "\n",
    "meta_losses = []\n",
    "\n",
    "num_steps = int(os.environ.get(\"LOPT_TRAIN_LENGTH\", 400))\n",
    "for i in range(num_steps):\n",
    "  data = get_vec_batch_seq(num_tasks, 10)\n",
    "  key1, key = jax.random.split(key)\n",
    "  keys = jax.random.split(key1, num_tasks)\n",
    "  (loss, (inner_opt_states, on_iterations)), meta_grad = vec_short_segment_es(\n",
    "      meta_opt_state[0], keys, inner_opt_states, on_iterations, data)\n",
    "  meta_losses.append(loss)\n",
    "  if i % 20 == 0:\n",
    "    print(i, onp.mean(meta_losses[-20:]))\n",
    "  meta_opt_state = meta_opt.update(meta_opt_state, meta_grad)"
   ]
  },
  {
   "cell_type": "code",
   "execution_count": 32,
   "metadata": {
    "colab": {
     "height": 296
    },
    "executionInfo": {
     "elapsed": 203,
     "status": "ok",
     "timestamp": 1647716735126,
     "user": {
      "displayName": "",
      "photoUrl": "",
      "userId": ""
     },
     "user_tz": 240
    },
    "id": "3ZxRdgKg3Rfo",
    "outputId": "cd1e4eb0-8eed-4c6f-f778-52e517a1e60f"
   },
   "outputs": [
    {
     "data": {
      "text/plain": [
       "Text(0, 0.5, 'meta-loss')"
      ]
     },
     "execution_count": 32,
     "metadata": {},
     "output_type": "execute_result"
    },
    {
     "data": {
      "image/png": "[encoded data removed]",
      "text/plain": [
       "<Figure size 600x400 with 1 Axes>"
      ]
     },
     "metadata": {},
     "output_type": "display_data"
    }
   ],
   "source": [
    "plt.plot(meta_losses)\n",
    "plt.xlabel(\"meta-iterations\")\n",
    "plt.ylabel(\"meta-loss\")"
   ]
  },
  {
   "cell_type": "markdown",
   "metadata": {
    "id": "D-8DhN_o2R7L"
   },
   "source": [
    "## Meta-training with truncations with less bias: Persistent Evolution Strategies (PES)\n",
    "When training with truncated evolutionary strategies, as well as truncated backprop through time and truncated evolutionary strategies one cannot compute the effect of one truncated segment, on other truncated segments. This introduces bias when working with longer sequences.\n",
    "\n",
    "PES is one ES based algorithm to prevent such bias."
   ]
  },
  {
   "cell_type": "code",
   "execution_count": 33,
   "metadata": {
    "executionInfo": {
     "elapsed": 53,
     "status": "ok",
     "timestamp": 1647716735333,
     "user": {
      "displayName": "",
      "photoUrl": "",
      "userId": ""
     },
     "user_tz": 240
    },
    "id": "WEfssK2R9-Gs"
   },
   "outputs": [],
   "source": [
    "@jax.jit\n",
    "def vec_short_segment_pes(meta_param,\n",
    "                          keys,\n",
    "                          pes_state,\n",
    "                          vec_seq_of_batches,\n",
    "                          std=0.01):\n",
    "  # Compute a pes estimate on a single inner-problem\n",
    "  def do_one(meta_param, key, pes_state, seq_of_batches):\n",
    "    accumulator, pos_opt_state, neg_opt_state, on_iteration = pes_state\n",
    "\n",
    "    # Sample random noise of the same shape as meta-parameters\n",
    "    flat_params, struct = jax.tree_util.tree_flatten(meta_param)\n",
    "    keys = [jax.random.fold_in(key, i) for i in range(len(flat_params))]\n",
    "    keys = jax.tree_util.tree_unflatten(struct, keys)\n",
    "    perturbs = jax.tree_util.tree_map(lambda k, v: jax.random.normal(k, v.shape) * std,\n",
    "                            keys, meta_param)\n",
    "\n",
    "    # compute positive and negative antithetic samples\n",
    "    pos_theta = jax.tree_util.tree_map(lambda eps, v: v + eps, perturbs, meta_param)\n",
    "    neg_theta = jax.tree_util.tree_map(lambda eps, v: v - eps, perturbs, meta_param)\n",
    "\n",
    "    # Apply both of the antithetic samples\n",
    "    p_losses, pos_opt_state, _ = short_segment_unroll(\n",
    "        pos_theta,\n",
    "        key,\n",
    "        pos_opt_state,\n",
    "        on_iteration,\n",
    "        seq_of_batches,\n",
    "        inner_problem_length=30)\n",
    "    n_losses, neg_opt_state, next_on_iteration = short_segment_unroll(\n",
    "        neg_theta,\n",
    "        key,\n",
    "        neg_opt_state,\n",
    "        on_iteration,\n",
    "        seq_of_batches,\n",
    "        inner_problem_length=30)\n",
    "\n",
    "    # estimate gradient. PES works by multipliying loss difference by the sum\n",
    "    # of previous perturbations.\n",
    "    new_accum = jax.tree_util.tree_map(lambda a, b: a + b, accumulator, perturbs)\n",
    "    delta_losses = p_losses - n_losses\n",
    "    unroll_length = p_losses.shape[0]\n",
    "\n",
    "    # one unroll could span 2 problems, so we compute 2 different gradients --\n",
    "    # one as if it was the previous trajectory, and one as if it was a previous\n",
    "    # unroll and sum them.\n",
    "    has_finished = (jnp.arange(unroll_length) + on_iteration) > 30\n",
    "\n",
    "    last_unroll_losses = jnp.mean(delta_losses * (1.0 - has_finished), axis=0)\n",
    "    new_unroll = jnp.mean(delta_losses * has_finished)\n",
    "\n",
    "    es_grad_from_accum = jax.tree_util.tree_map(\n",
    "        lambda p: last_unroll_losses * 1 / (2. * std) * p, new_accum)\n",
    "    es_grad_from_new_perturb = jax.tree_util.tree_map(\n",
    "        lambda p: new_unroll * 1 / (2. * std) * p, perturbs)\n",
    "    es_grad = jax.tree_util.tree_map(lambda a, b: a + b, es_grad_from_accum,\n",
    "                           es_grad_from_new_perturb)\n",
    "\n",
    "    # finally, we potentially reset the accumulator to the current perturbation\n",
    "    # if we finished one trajectory.\n",
    "    def _switch_one_accum(a, b):\n",
    "      return jnp.where(has_finished[-1], a, b)\n",
    "\n",
    "    new_accum = jax.tree_util.tree_map(_switch_one_accum, perturbs, new_accum)\n",
    "\n",
    "    next_pes_state = (new_accum, pos_opt_state, neg_opt_state,\n",
    "                      next_on_iteration)\n",
    "\n",
    "    return ((jnp.mean(p_losses) + jnp.mean(n_losses)) / 2.0,\n",
    "            next_pes_state), es_grad\n",
    "\n",
    "  (loss, pes_state), es_grad = jax.vmap(\n",
    "      do_one, in_axes=(None, 0, 0, 0))(meta_param, keys, pes_state,\n",
    "                                       vec_seq_of_batches)\n",
    "\n",
    "  # Gradient has an extra batch dimension here from the vmap -- reduce over this.\n",
    "  return (jnp.mean(loss),\n",
    "          pes_state), jax.tree_util.tree_map(lambda x: jnp.mean(x, axis=0), es_grad)"
   ]
  },
  {
   "cell_type": "code",
   "execution_count": 34,
   "metadata": {
    "executionInfo": {
     "elapsed": 60,
     "status": "ok",
     "timestamp": 1647716735518,
     "user": {
      "displayName": "",
      "photoUrl": "",
      "userId": ""
     },
     "user_tz": 240
    },
    "id": "f-DFEv7vbNjQ"
   },
   "outputs": [],
   "source": [
    "num_tasks = 32\n",
    "\n",
    "key = jax.random.PRNGKey(1)\n",
    "inner_opt_state = lopt.initial_inner_opt_state(meta_params, task.init(key))\n",
    "batch = get_batch_seq(10)\n",
    "\n",
    "meta_params = lopt.init_meta_params(key)\n",
    "\n",
    "# construct the initial PES state which is passed from iteration to iteration\n",
    "def init_single_inner_opt_state(key):\n",
    "  return lopt.initial_inner_opt_state(meta_params, task.init(key))\n",
    "keys = jax.random.split(key, num_tasks)\n",
    "inner_opt_states = jax.vmap(init_single_inner_opt_state)(keys)\n",
    "accumulator = jax.tree_util.tree_map(lambda x: jnp.zeros([num_tasks] + list(x.shape)),\n",
    "                           meta_params)\n",
    "# Randomly set the initial iteration to prevent the tasks from running in lock step.\n",
    "on_iterations = jax.random.randint(key, [num_tasks], 0, 30)\n",
    "pes_state = (accumulator, inner_opt_states, inner_opt_states, on_iterations)"
   ]
  },
  {
   "cell_type": "code",
   "execution_count": 35,
   "metadata": {
    "executionInfo": {
     "elapsed": 34013,
     "status": "ok",
     "timestamp": 1647716769658,
     "user": {
      "displayName": "",
      "photoUrl": "",
      "userId": ""
     },
     "user_tz": 240
    },
    "id": "BRdSQI6dbNjQ",
    "outputId": "1dbf6073-f748-4aa7-de21-2fce80c0e188"
   },
   "outputs": [
    {
     "name": "stdout",
     "output_type": "stream",
     "text": [
      "0 2.302895\n",
      "20 2.3025956\n",
      "40 2.3024507\n",
      "60 2.3007588\n",
      "80 2.2814593\n",
      "100 2.2528963\n",
      "120 2.221389\n",
      "140 2.1904716\n",
      "160 2.1542785\n",
      "180 2.1154919\n",
      "200 2.0792098\n",
      "220 2.0493665\n",
      "240 2.0263429\n",
      "260 2.000341\n",
      "280 1.9719956\n",
      "300 1.946686\n",
      "320 1.9295752\n",
      "340 1.9169009\n",
      "360 1.8944466\n",
      "380 1.880933\n"
     ]
    }
   ],
   "source": [
    "meta_opt = Adam(0.0003)\n",
    "meta_opt_state = meta_opt.init(meta_params)\n",
    "\n",
    "meta_losses = []\n",
    "\n",
    "num_steps = int(os.environ.get(\"LOPT_TRAIN_LENGTH\", 400))\n",
    "for i in range(num_steps):\n",
    "  data = get_vec_batch_seq(num_tasks, 10)\n",
    "  key1, key = jax.random.split(key)\n",
    "  keys = jax.random.split(key1, num_tasks)\n",
    "  (loss, pes_state), meta_grad = vec_short_segment_pes(meta_opt_state[0], keys,\n",
    "                                                       pes_state, data)\n",
    "  meta_losses.append(loss)\n",
    "  if i % 20 == 0:\n",
    "    print(i, onp.mean(meta_losses[-20:]))\n",
    "  meta_opt_state = meta_opt.update(meta_opt_state, meta_grad)"
   ]
  },
  {
   "cell_type": "code",
   "execution_count": 36,
   "metadata": {
    "colab": {
     "height": 296
    },
    "executionInfo": {
     "elapsed": 226,
     "status": "ok",
     "timestamp": 1647716770004,
     "user": {
      "displayName": "",
      "photoUrl": "",
      "userId": ""
     },
     "user_tz": 240
    },
    "id": "noPvV56CjOrd",
    "outputId": "526cd7cf-1962-45b3-dcdb-1d956e9ace64"
   },
   "outputs": [
    {
     "data": {
      "text/plain": [
       "Text(0, 0.5, 'meta-loss')"
      ]
     },
     "execution_count": 36,
     "metadata": {},
     "output_type": "execute_result"
    },
    {
     "data": {
      "image/png": "[encoded data removed]",
      "text/plain": [
       "<Figure size 600x400 with 1 Axes>"
      ]
     },
     "metadata": {},
     "output_type": "display_data"
    }
   ],
   "source": [
    "plt.plot(meta_losses)\n",
    "plt.xlabel(\"meta-iterations\")\n",
    "plt.ylabel(\"meta-loss\")"
   ]
  },
  {
   "cell_type": "markdown",
   "metadata": {
    "id": "-kz0dpBfJi5r"
   },
   "source": [
    "## Exercises\n",
    "For those curious in getting their feet wet, fork this notebook and try to implement any of the following!\n",
    "\n",
    "* Modify the meta-loss to meta-train targeting some validation loss rather than train loss.\n",
    "* Add other features to the learned optimizer such as rolling second moment features (such as adam) or momentums at different timescales.\n",
    "* Make the per parameter MLP a per parameter RNN."
   ]
  },
  {
   "cell_type": "markdown",
   "metadata": {
    "id": "H39tBazN8FP1"
   },
   "source": [
    "## Conclusion and relations to the `learned_optimization` package\n",
    "We hope this notebook gives you an introduction to learned optimizers.\n",
    "This is an incredibly minimal implementation, and as a result suboptimal in a number of ways.\n",
    "The `learned_optimization` library was designed based on the patterns used above, but expanded upon to be more general, more scalable, and more fully featured.\n",
    "\n",
    "The core designs of how to implement these things in jax remain very consistent.\n",
    "We outline a few of the main differences.\n",
    "\n",
    "\n",
    "### PyTree all the things\n",
    "In the above examples, we made use of tuples and lists to store parameters, and opt states. This is simple, but gets unwieldy with more complex structures.\n",
    "With `learned_optimization` every piece of data is stored as some kind of jax pytree -- oftentimes a dataclass registered as a pytree. These pytree require the use of the [pytree library](https://jax.readthedocs.io/en/latest/pytrees.html).\n",
    "\n",
    "### Tasks\n",
    "The task interface is quite similar to what we have shown here. There is one other layer of abstraction in `learned_optimization`, namely `TaskFamily`. In this example, we meta-train on multiple tasks in parallel -- the only difference between these tasks is their random initialization. A `TaskFamily` let's one instead vectorize over other aspects of the problem. Common examples include vectorizing over different kinds of initializations, or different kinds of activation functions.\n",
    "\n",
    "### Optimizers\n",
    "The optimizer interface is also basically the same. The main differences being that the learned optimization optimizers can accept additional arguments such as `num_steps` (target number of steps for learning rate schedules and related), jax.PRNGKey for stochastic optimizers, and loss values.\n",
    "\n",
    "### LearnedOptimizers\n",
    "In this colab, the learned optimizers and optimizers here have different signatures.\n",
    "In `learned_optimization` a LearnedOptimizer contains a function of meta-parameters which itself returns an instance of an Optimizer. For example the update can be called as: `lopt.opt_fn(meta_params).update(opt_state, grads)`.\n",
    "\n",
    "The learned optimizer implemented in this notebook is designed to be simple and easy to follow as opposed to performant / easy to meta-train. `learned_optimization` comes packaged with a number of learned optimizer implementations which will give much better performance.\n",
    "\n",
    "### Meta-training\n",
    "This is the biggest divergence. Meta-training algorithms are implemented as subclasses of `GradientEstimator`. These operate internally like the truncated training in that they store state which is passed from iteration to iteration, but are much more general.\n",
    "They implement 2 functions, one to initialize the state of the inner-problems, and the second to perform updates. This mirrors the 2 functions we needed to write for truncated training.\n",
    "When applying the meta-gradient updates we make use of a `GradientLearner` class which can be either run on a single or multiple machines."
   ]
  }
 ],
 "metadata": {
  "colab": {
   "collapsed_sections": [],
   "last_runtime": {
    "build_target": "//learning/deepmind/public/tools/ml_python:ml_notebook",
    "kind": "private"
   },
   "name": "No dependency learned optimizer",
   "provenance": [
    {
     "file_id": "1uJ2meEAIPuGPOQy4x7GmR__kJ4RG271y",
     "timestamp": 1644459557191
    }
   ],
   "toc_visible": true
  },
  "jupytext": {
   "formats": "ipynb,md:myst,py",
   "main_language": "python"
  },
  "kernelspec": {
   "display_name": "Python 3",
   "name": "python3"
  },
  "language_info": {
   "name": "python"
  }
 },
 "nbformat": 4,
 "nbformat_minor": 0
}
