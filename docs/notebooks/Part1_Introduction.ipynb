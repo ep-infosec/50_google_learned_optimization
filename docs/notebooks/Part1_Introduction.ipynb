{
 "cells": [
  {
   "cell_type": "markdown",
   "id": "146acba4",
   "metadata": {
    "id": "146acba4"
   },
   "source": [
    "# Part 1: Introduction\n",
    "The goal of this colab is to introduce the core abstractions used within this library.\n",
    "These include the `Task` and `Optimizer` objects.\n",
    "\n",
    "We will first introduce these abstractions and illustrate basic functionality. We will then show how to define a custom `Optimizer`, and how to optimize optimizers via gradient-based meta-training.\n",
    "\n",
    "This colab serves as a brief, limited introduction to the capabilities of the library. Further notebooks introduce further functionality as well as more complex learned optimizer models."
   ]
  },
  {
   "cell_type": "markdown",
   "id": "6dab76c7",
   "metadata": {
    "id": "6dab76c7"
   },
   "source": [
    "## Prerequisites\n",
    "\n",
    "This document assumes knowledge of JAX which is covered in depth at the [JAX Docs](https://jax.readthedocs.io/en/latest/index.html).\n",
    "In particular, we would recomend making your way through [JAX tutorial 101](https://jax.readthedocs.io/en/latest/jax-101/index.html)."
   ]
  },
  {
   "cell_type": "code",
   "execution_count": null,
   "id": "yizpQK7IvIGg",
   "metadata": {
    "id": "yizpQK7IvIGg"
   },
   "outputs": [],
   "source": [
    "import numpy as np\n",
    "import jax.numpy as jnp\n",
    "import jax\n",
    "from matplotlib import pylab as plt"
   ]
  },
  {
   "cell_type": "code",
   "execution_count": null,
   "id": "d5c47834",
   "metadata": {
    "id": "d5c47834"
   },
   "outputs": [],
   "source": [
    "!pip install git+https://github.com/google/learned_optimization.git"
   ]
  },
  {
   "cell_type": "code",
   "execution_count": null,
   "id": "374e391d",
   "metadata": {
    "id": "374e391d"
   },
   "outputs": [],
   "source": [
    "import numpy as np\n",
    "import jax.numpy as jnp\n",
    "import jax\n",
    "from matplotlib import pylab as plt\n",
    "\n",
    "from learned_optimization.outer_trainers import full_es\n",
    "from learned_optimization.outer_trainers import truncated_pes\n",
    "from learned_optimization.outer_trainers import gradient_learner\n",
    "from learned_optimization.outer_trainers import truncation_schedule\n",
    "\n",
    "from learned_optimization.tasks import quadratics\n",
    "from learned_optimization.tasks.fixed import image_mlp\n",
    "from learned_optimization.tasks import base as tasks_base\n",
    "from learned_optimization.tasks.datasets import base as datasets_base\n",
    "\n",
    "from learned_optimization.learned_optimizers import base as lopt_base\n",
    "from learned_optimization.learned_optimizers import mlp_lopt\n",
    "from learned_optimization.optimizers import base as opt_base\n",
    "\n",
    "from learned_optimization import optimizers\n",
    "from learned_optimization import eval_training\n",
    "\n",
    "import haiku as hk\n",
    "import tqdm"
   ]
  },
  {
   "cell_type": "markdown",
   "id": "e341b64a",
   "metadata": {
    "id": "e341b64a"
   },
   "source": [
    "## Tasks\n",
    "\n",
    "A `Task` is an object containing a specification of a machine learning or optimization problem. The `Task` requires:\n",
    "  * Parameters: for example, these may include the decision variables of an arbitrary optimization problem, or parameters of a predictive model such as a neural network. These are initialized through the `init` method.\n",
    "  * Optionally a model state: this includes model parameters which are not to be updated via gradients. One example is the running population statistics used within batch norm.\n",
    "  * Optionally, a `.dataset` attribute with iterators of datasets.\n",
    "  * A loss function: this maps from the parameters, and possibly a batch of data to a loss.\n",
    "\n",
    "This object can be thought of as a loss function, and these are the base objects we train learned optimizers to perform well on.\n",
    "\n",
    "Tasks contain the following:\n",
    "  * A `init` function which initializes the parameters of the task.\n",
    "  * A `loss` function, which evaluates the loss given parameters and data.\n",
    "  * Optionally a `.dataset` attribute with iterators of datasets.\n",
    "\n",
    "For tasks which make use of a model state (e.g. tasks with batchnorm), a `init_with_state` and `loss_with_state` will also be provided.\n",
    "\n",
    "We'll begin by looking at some built-in tasks in the library. In future colabs, we will discuss how custom tasks can be designed, and how families of tasks can be efficiently designed for parallelization.\n",
    "\n",
    "We will look at the `ImageMLP_FashionMnist8_Relu32` task. This task consists of a 1 hidden layer MLP trained on Fashion MNIST resized to 8x8.\n",
    "\n",
    "First, let's initialize the parameters."
   ]
  },
  {
   "cell_type": "code",
   "execution_count": null,
   "id": "49b53916",
   "metadata": {
    "executionInfo": {
     "elapsed": 5659,
     "status": "ok",
     "timestamp": 1643173202623,
     "user": {
      "displayName": "",
      "photoUrl": "",
      "userId": ""
     },
     "user_tz": 480
    },
    "id": "49b53916",
    "outputId": "fb69ee9e-cf0c-4e7f-d601-b9dea16f473f"
   },
   "outputs": [
    {
     "data": {
      "text/plain": [
       "{'mlp/~/linear_0': {'b': (32,), 'w': (64, 32)},\n",
       " 'mlp/~/linear_1': {'b': (10,), 'w': (32, 10)}}"
      ]
     },
     "execution_count": 4,
     "metadata": {},
     "output_type": "execute_result"
    }
   ],
   "source": [
    "key = jax.random.PRNGKey(0)\n",
    "task = image_mlp.ImageMLP_FashionMnist8_Relu32()\n",
    "\n",
    "params = task.init(key)\n",
    "jax.tree_util.tree_map(lambda x: x.shape, params)"
   ]
  },
  {
   "cell_type": "markdown",
   "id": "a7ce6c75",
   "metadata": {
    "id": "a7ce6c75"
   },
   "source": [
    "We can see we initialized parameters which correspond to the weights of the MLP.\n",
    "\n",
    "Next, let's look at the data."
   ]
  },
  {
   "cell_type": "code",
   "execution_count": null,
   "id": "bf030fd0",
   "metadata": {
    "executionInfo": {
     "elapsed": 4,
     "status": "ok",
     "timestamp": 1643173202813,
     "user": {
      "displayName": "",
      "photoUrl": "",
      "userId": ""
     },
     "user_tz": 480
    },
    "id": "bf030fd0",
    "outputId": "c6b2ee31-b1ef-4fa9-8f07-04e041ac9537"
   },
   "outputs": [
    {
     "data": {
      "text/plain": [
       "FlatMap({\n",
       "  'image': ((128, 8, 8, 1), dtype('float32')),\n",
       "  'label': ((128,), dtype('int32')),\n",
       "})"
      ]
     },
     "execution_count": 5,
     "metadata": {},
     "output_type": "execute_result"
    }
   ],
   "source": [
    "batch = next(task.datasets.train)\n",
    "jax.tree_util.tree_map(lambda x: (x.shape, x.dtype), batch)"
   ]
  },
  {
   "cell_type": "markdown",
   "id": "7ad6d9b8",
   "metadata": {
    "id": "7ad6d9b8"
   },
   "source": [
    "We get batches of 128 with images of size 8x8 and labels stored as integers.\n",
    "\n",
    "To compute losses, we can call the `loss` function. Some loss functions can be stochastic. For these, in addition to passing in params, and the batch of data, we also pass in a random number."
   ]
  },
  {
   "cell_type": "code",
   "execution_count": null,
   "id": "d5033451",
   "metadata": {
    "executionInfo": {
     "elapsed": 318,
     "status": "ok",
     "timestamp": 1643173203307,
     "user": {
      "displayName": "",
      "photoUrl": "",
      "userId": ""
     },
     "user_tz": 480
    },
    "id": "d5033451",
    "outputId": "f95171bb-5087-4ed1-8ddd-a9a42ff89e88"
   },
   "outputs": [
    {
     "data": {
      "text/plain": [
       "DeviceArray(2.3404593, dtype=float32)"
      ]
     },
     "execution_count": 6,
     "metadata": {},
     "output_type": "execute_result"
    }
   ],
   "source": [
    "key, key1 = jax.random.split(key)\n",
    "\n",
    "loss = task.loss(params, key1, batch)\n",
    "loss"
   ]
  },
  {
   "cell_type": "markdown",
   "id": "72c0828a",
   "metadata": {
    "id": "72c0828a"
   },
   "source": [
    "Function transformations can also be used to compute gradients."
   ]
  },
  {
   "cell_type": "code",
   "execution_count": null,
   "id": "0c78a15a",
   "metadata": {
    "executionInfo": {
     "elapsed": 672,
     "status": "ok",
     "timestamp": 1643173204150,
     "user": {
      "displayName": "",
      "photoUrl": "",
      "userId": ""
     },
     "user_tz": 480
    },
    "id": "0c78a15a",
    "outputId": "7706bf0f-741d-401a-f70b-8c66c8f10859"
   },
   "outputs": [
    {
     "data": {
      "text/plain": [
       "{'mlp/~/linear_0': {'b': (32,), 'w': (64, 32)},\n",
       " 'mlp/~/linear_1': {'b': (10,), 'w': (32, 10)}}"
      ]
     },
     "execution_count": 7,
     "metadata": {},
     "output_type": "execute_result"
    }
   ],
   "source": [
    "loss, grad = jax.value_and_grad(task.loss)(params, key1, batch)\n",
    "jax.tree_util.tree_map(lambda x: x.shape, grad)"
   ]
  },
  {
   "cell_type": "markdown",
   "id": "fbe89c3b",
   "metadata": {
    "id": "fbe89c3b"
   },
   "source": [
    "Now let's pull this together to train this task with SGD. Note that we will _jit_ the loss gradient computation for improved performance---if this is not familiar, we recommend reading about [Just in Time Compilation with JAX](https://jax.readthedocs.io/en/latest/jax-101/02-jitting.html)."
   ]
  },
  {
   "cell_type": "code",
   "execution_count": null,
   "id": "49cbc7ba",
   "metadata": {
    "executionInfo": {
     "elapsed": 960,
     "status": "ok",
     "timestamp": 1643173205253,
     "user": {
      "displayName": "",
      "photoUrl": "",
      "userId": ""
     },
     "user_tz": 480
    },
    "id": "49cbc7ba",
    "outputId": "cc472f4d-2695-4bc0-df78-6178eea5b0eb"
   },
   "outputs": [
    {
     "name": "stdout",
     "output_type": "stream",
     "text": [
      "train loss at 0: 2.3431787490844727. Test loss: 2.3290696144104004\n",
      "train loss at 100: 1.3063488006591797. Test loss: 1.3161423206329346\n",
      "train loss at 200: 1.0361652374267578. Test loss: 0.9567877054214478\n",
      "train loss at 300: 0.8567416667938232. Test loss: 0.8595446348190308\n",
      "train loss at 400: 0.7901570796966553. Test loss: 0.7775527238845825\n",
      "train loss at 500: 0.7749090194702148. Test loss: 0.8601065874099731\n",
      "train loss at 600: 0.717944860458374. Test loss: 1.0189208984375\n",
      "train loss at 700: 0.664547324180603. Test loss: 0.639930784702301\n",
      "train loss at 800: 0.5981862545013428. Test loss: 0.6370106935501099\n",
      "train loss at 900: 0.6088892817497253. Test loss: 0.8031588792800903\n"
     ]
    }
   ],
   "source": [
    "grad_fn = jax.jit(jax.value_and_grad(task.loss))\n",
    "key = jax.random.PRNGKey(0)\n",
    "params = task.init(key)\n",
    "lr = 0.1\n",
    "\n",
    "for i in range(1000):\n",
    "  key, key1 = jax.random.split(key)\n",
    "  batch = next(task.datasets.train)\n",
    "  l, grads = grad_fn(params, key1, batch)\n",
    "  # apply SGD to each parameter\n",
    "  params = jax.tree_util.tree_map(lambda p, g: p - lr * g, params, grads)\n",
    "  if i % 100 == 0:\n",
    "    test_l = task.loss(params, key, next(task.datasets.test))\n",
    "    print(f\"train loss at {i}: {float(l)}. Test loss: {float(test_l)}\")"
   ]
  },
  {
   "cell_type": "markdown",
   "id": "32604359",
   "metadata": {
    "id": "32604359"
   },
   "source": [
    "Note the evaluations in the above are quite noisy as they are only done on a single batch of data."
   ]
  },
  {
   "cell_type": "markdown",
   "id": "2115d037",
   "metadata": {
    "id": "2115d037"
   },
   "source": [
    "## Optimizers\n",
    "We have so far implemented a rough SGD optimizer to train our model parameters. In this section, we will develop useful abstractions to create more powerful optimizers.\n",
    "\n",
    "Sadly there is no gold standard interface for optimizers in Jax: there are Flax's optimizers, optax optimizers, optimizers from jaxopt, and optix. This library uses it's own interface to expose additional types of inputs to the optimizer. These additional inputs will become more obvious when we discuss learned optimizers later in this colab, as well as in future colabs.\n",
    "\n",
    "\n",
    "In this library, optimizers are stateless classes that implement:\n",
    "  * an `init` which creates an `OptimizerState` instance which wraps parameters and optionally a model stats as well as contains any additional optimizer state needed (e.g. momentum values)\n",
    "  * a `get_params` and `get_state`  which return the parameters and state of the `OptimizerState`.\n",
    "  * an `update` function which takes in a previous optimizer state, gradients, and optionally a loss values to produce a new `OptimizerState` (with new parameters).\n",
    "\n",
    "\n",
    "Let's look at a couple examples. First, SGD:"
   ]
  },
  {
   "cell_type": "code",
   "execution_count": null,
   "id": "e9673b31",
   "metadata": {
    "executionInfo": {
     "elapsed": 5,
     "status": "ok",
     "timestamp": 1643173205421,
     "user": {
      "displayName": "",
      "photoUrl": "",
      "userId": ""
     },
     "user_tz": 480
    },
    "id": "e9673b31",
    "outputId": "848b36a3-3bb4-421d-b558-170e0730a18b"
   },
   "outputs": [
    {
     "data": {
      "text/plain": [
       "OptaxState(params={'a': DeviceArray([0., 0.], dtype=float32)}, state=None, optax_opt_state=(EmptyState(), EmptyState()), iteration=0)"
      ]
     },
     "execution_count": 9,
     "metadata": {},
     "output_type": "execute_result"
    }
   ],
   "source": [
    "fake_params = {\"a\": jnp.zeros((2,))}\n",
    "\n",
    "opt = opt_base.SGD(1e-4)\n",
    "opt_state = opt.init(fake_params)\n",
    "opt_state"
   ]
  },
  {
   "cell_type": "markdown",
   "id": "9cf3fb23",
   "metadata": {
    "id": "9cf3fb23"
   },
   "source": [
    "We can see the `opt_state` has parameter values, and a couple other values such as current iteration."
   ]
  },
  {
   "cell_type": "code",
   "execution_count": null,
   "id": "5db1e09c",
   "metadata": {
    "executionInfo": {
     "elapsed": 75,
     "status": "ok",
     "timestamp": 1643173205656,
     "user": {
      "displayName": "",
      "photoUrl": "",
      "userId": ""
     },
     "user_tz": 480
    },
    "id": "5db1e09c",
    "outputId": "4eab9598-17a9-4ae0-a3ea-04639ab0dcd7"
   },
   "outputs": [
    {
     "data": {
      "text/plain": [
       "OptaxState(params={'a': DeviceArray([0., 0.], dtype=float32)}, state=None, optax_opt_state=(ScaleByAdamState(count=DeviceArray(0, dtype=int32), mu={'a': DeviceArray([0., 0.], dtype=float32)}, nu={'a': DeviceArray([0., 0.], dtype=float32)}), EmptyState()), iteration=0)"
      ]
     },
     "execution_count": 10,
     "metadata": {},
     "output_type": "execute_result"
    }
   ],
   "source": [
    "opt = opt_base.Adam(1e-4)\n",
    "opt_state = opt.init(fake_params)\n",
    "opt_state"
   ]
  },
  {
   "cell_type": "markdown",
   "id": "337afafe",
   "metadata": {
    "id": "337afafe"
   },
   "source": [
    "Adam, on the other hand, has more data inside as it contains first and second moment accumulators.\n",
    "\n",
    "Now let's take one step with an optimizer."
   ]
  },
  {
   "cell_type": "code",
   "execution_count": null,
   "id": "357962b9",
   "metadata": {
    "executionInfo": {
     "elapsed": 68,
     "status": "ok",
     "timestamp": 1643173205854,
     "user": {
      "displayName": "",
      "photoUrl": "",
      "userId": ""
     },
     "user_tz": 480
    },
    "id": "357962b9",
    "outputId": "de9a3d77-11d5-48b9-f293-bed832537cee"
   },
   "outputs": [
    {
     "data": {
      "text/plain": [
       "{'a': DeviceArray([-9.9999335e-05, -9.9999335e-05], dtype=float32)}"
      ]
     },
     "execution_count": 11,
     "metadata": {},
     "output_type": "execute_result"
    }
   ],
   "source": [
    "fake_grads = {\"a\": jnp.ones((2,))}\n",
    "fake_loss = 10.\n",
    "\n",
    "next_opt_state = opt.update(opt_state, fake_grads, fake_loss)\n",
    "opt.get_params(next_opt_state)"
   ]
  },
  {
   "cell_type": "markdown",
   "id": "65114ea8",
   "metadata": {
    "id": "65114ea8"
   },
   "source": [
    "We can see the parameters of our model have been updated slightly.\n",
    "\n",
    "Now let's pull this all together and train a Task with this optimizer API."
   ]
  },
  {
   "cell_type": "code",
   "execution_count": null,
   "id": "52fa2b0d",
   "metadata": {
    "executionInfo": {
     "elapsed": 543,
     "status": "ok",
     "timestamp": 1643173206548,
     "user": {
      "displayName": "",
      "photoUrl": "",
      "userId": ""
     },
     "user_tz": 480
    },
    "id": "52fa2b0d",
    "outputId": "afb7c02f-0baf-4ec6-9847-f65d8ae90ba2"
   },
   "outputs": [
    {
     "name": "stdout",
     "output_type": "stream",
     "text": [
      "2.3285213\n",
      "2.2702265\n",
      "2.2235658\n",
      "2.1345925\n",
      "2.0540721\n",
      "2.039238\n",
      "1.922206\n",
      "1.847055\n",
      "1.8123329\n",
      "1.7331252\n"
     ]
    }
   ],
   "source": [
    "task = image_mlp.ImageMLP_FashionMnist8_Relu32()\n",
    "key = jax.random.PRNGKey(0)\n",
    "params = task.init(key)\n",
    "\n",
    "opt = opt_base.Adam(1e-2)\n",
    "opt_state = opt.init(params)\n",
    "\n",
    "for i in range(10):\n",
    "  batch = next(task.datasets.train)\n",
    "  key, key1 = jax.random.split(key)\n",
    "  params = opt.get_params(opt_state)\n",
    "  loss, grads = jax.value_and_grad(task.loss)(params, key1, batch)\n",
    "  opt_state = opt.update(opt_state, grads, loss)\n",
    "  print(loss)"
   ]
  },
  {
   "cell_type": "markdown",
   "id": "631099e9",
   "metadata": {
    "id": "631099e9"
   },
   "source": [
    "The above doesn't make use of any sort of `jax.jit` and thus it is slow. In practice, we often like to create one update function which maps from one `opt_state` to the next and jit this entire function. For example:"
   ]
  },
  {
   "cell_type": "code",
   "execution_count": null,
   "id": "a2ebdbd5",
   "metadata": {
    "executionInfo": {
     "elapsed": 692,
     "status": "ok",
     "timestamp": 1643173207374,
     "user": {
      "displayName": "",
      "photoUrl": "",
      "userId": ""
     },
     "user_tz": 480
    },
    "id": "a2ebdbd5",
    "outputId": "a141a7c1-baa9-47b4-eb35-e3e45a8c7493"
   },
   "outputs": [
    {
     "name": "stdout",
     "output_type": "stream",
     "text": [
      "2.3393626\n",
      "2.259151\n",
      "2.1479445\n",
      "2.0973787\n",
      "2.089923\n",
      "2.012719\n",
      "1.8739626\n",
      "1.8503203\n",
      "1.7333521\n",
      "1.6747149\n"
     ]
    }
   ],
   "source": [
    "task = image_mlp.ImageMLP_FashionMnist8_Relu32()\n",
    "key = jax.random.PRNGKey(0)\n",
    "params = task.init(key)\n",
    "\n",
    "opt = opt_base.Adam(1e-2)\n",
    "opt_state = opt.init(params)\n",
    "\n",
    "\n",
    "@jax.jit\n",
    "def update(opt_state, key, batch):\n",
    "  key, key1 = jax.random.split(key)\n",
    "  params, model_state = opt.get_params_state(opt_state)\n",
    "  loss, grads = jax.value_and_grad(task.loss)(params, key1, batch)\n",
    "  opt_state = opt.update(opt_state, grads, loss=loss)\n",
    "\n",
    "  return opt_state, key, loss\n",
    "\n",
    "\n",
    "for i in range(10):\n",
    "  batch = next(task.datasets.train)\n",
    "  opt_state, key, loss = update(opt_state, key, batch)\n",
    "  print(loss)"
   ]
  },
  {
   "cell_type": "markdown",
   "id": "dc2f1728",
   "metadata": {
    "id": "dc2f1728"
   },
   "source": [
    "### Defining a custom `Optimizer`\n",
    "\n",
    "To define a custom optimizer, one simply needs to define a stateless instance of the `Optimizer` class and some pytree object with the optimizer state.\n",
    "\n",
    "As an example let's implement the momentum optimizer. As our state we will use a flax dataclass (though a simple dictionary or named tuple would also suffice)."
   ]
  },
  {
   "cell_type": "code",
   "execution_count": null,
   "id": "65a556ce",
   "metadata": {
    "executionInfo": {
     "elapsed": 167,
     "status": "ok",
     "timestamp": 1643173207718,
     "user": {
      "displayName": "",
      "photoUrl": "",
      "userId": ""
     },
     "user_tz": 480
    },
    "id": "65a556ce",
    "outputId": "966a8921-c6d8-448e-9f0a-fcd9c5f75cc6"
   },
   "outputs": [
    {
     "data": {
      "text/plain": [
       "MomentumOptState(params={'a': DeviceArray(1.1, dtype=float32, weak_type=True), 'b': DeviceArray(1.9, dtype=float32, weak_type=True)}, model_state=None, iteration=DeviceArray(1, dtype=int32), momentums={'a': DeviceArray(1.1, dtype=float32, weak_type=True), 'b': DeviceArray(1.9, dtype=float32, weak_type=True)})"
      ]
     },
     "execution_count": 14,
     "metadata": {},
     "output_type": "execute_result"
    }
   ],
   "source": [
    "import flax\n",
    "from typing import Any\n",
    "\n",
    "\n",
    "@flax.struct.dataclass\n",
    "class MomentumOptState:\n",
    "  params: Any\n",
    "  model_state: Any\n",
    "  iteration: jnp.ndarray\n",
    "  momentums: Any\n",
    "\n",
    "\n",
    "class MomentumOptimizer(opt_base.Optimizer):\n",
    "\n",
    "  def __init__(self, lr=1e-3, momentum=0.9):\n",
    "    super().__init__()\n",
    "    self._lr = lr\n",
    "    self._momentum = momentum\n",
    "\n",
    "  def get_state(self, opt_state):\n",
    "    return opt_state.model_state\n",
    "\n",
    "  def get_params(self, opt_state):\n",
    "    return opt_state.params\n",
    "\n",
    "  def init(self, params, model_state=None, **kwargs):\n",
    "    return MomentumOptState(\n",
    "        params=params,\n",
    "        model_state=model_state,\n",
    "        momentums=jax.tree_util.tree_map(jnp.zeros_like, params),\n",
    "        iteration=jnp.asarray(0, dtype=jnp.int32))\n",
    "\n",
    "  def update(self, opt_state, grads, loss, model_state=None, **kwargs):\n",
    "    struct = jax.tree_util.tree_structure(grads)\n",
    "    flat_momentum = jax.tree_util.tree_leaves(opt_state.momentums)\n",
    "    flat_grads = jax.tree_util.tree_leaves(grads)\n",
    "    flat_params = jax.tree_util.tree_leaves(opt_state.params)\n",
    "\n",
    "    output_params = []\n",
    "    output_momentums = []\n",
    "    for m, g, p in zip(flat_momentum, flat_grads, flat_params):\n",
    "      next_m = m * self._momentum + g * (1 - self._momentum)\n",
    "      next_p = p - next_m * self._lr\n",
    "      output_params.append(next_p)\n",
    "      output_momentums.append(next_m)\n",
    "    return MomentumOptState(\n",
    "        params=jax.tree_util.tree_unflatten(struct, output_params),\n",
    "        model_state=model_state,\n",
    "        iteration=opt_state.iteration + 1,\n",
    "        momentums=jax.tree_util.tree_unflatten(struct, output_params),\n",
    "    )\n",
    "\n",
    "\n",
    "opt = MomentumOptimizer(lr=1)\n",
    "opt_state = opt.init({\"a\": 1.0, \"b\": 2.0})\n",
    "opt.update(opt_state, {\"a\": -1.0, \"b\": 1.0}, 1.0)"
   ]
  },
  {
   "cell_type": "markdown",
   "id": "80bbfe9e",
   "metadata": {
    "id": "80bbfe9e"
   },
   "source": [
    "## Learned Optimizers\n",
    "\n",
    "Learned optimizers are simply optimizers parameterized by some additional set of variables, often called `theta` by convention.\n",
    "\n",
    "Like before, instances of `LearnedOptimizer` should contain no immutable state.\n",
    "\n",
    "They implement 2 functions:\n",
    "  * `init` which initializes the weights of the learned optimizer (e.g. randomly as done with neural networks, or with some fixed values).\n",
    "  * `opt_fn` which takes in the parameters of the learned optimizer, and produces an `Optimizer` instance.\n",
    "\n",
    "\n",
    "One of the simplest forms of learned optimizer is a hand-designed optimizer with meta-learnable hyperparameters. Let's look at `LearnableAdam`:"
   ]
  },
  {
   "cell_type": "code",
   "execution_count": null,
   "id": "d7a8bd53",
   "metadata": {
    "executionInfo": {
     "elapsed": 60,
     "status": "ok",
     "timestamp": 1643173207903,
     "user": {
      "displayName": "",
      "photoUrl": "",
      "userId": ""
     },
     "user_tz": 480
    },
    "id": "d7a8bd53",
    "outputId": "62d867f0-2095-415e-cb03-a1bea9951794"
   },
   "outputs": [
    {
     "data": {
      "text/plain": [
       "{'log_epsilon': DeviceArray(-18.420681, dtype=float32, weak_type=True),\n",
       " 'log_lr': DeviceArray(-6.9077554, dtype=float32, weak_type=True),\n",
       " 'one_minus_beta1': DeviceArray(-2.3025851, dtype=float32, weak_type=True),\n",
       " 'one_minus_beta2': DeviceArray(-6.9077554, dtype=float32, weak_type=True)}"
      ]
     },
     "execution_count": 15,
     "metadata": {},
     "output_type": "execute_result"
    }
   ],
   "source": [
    "lopt = lopt_base.LearnableAdam()\n",
    "theta = lopt.init(key)\n",
    "theta"
   ]
  },
  {
   "cell_type": "markdown",
   "id": "22c5ac36",
   "metadata": {
    "id": "22c5ac36"
   },
   "source": [
    "We see this optimizer has 4 meta-learnable parameters corresponding to log learning rate, 2 values for beta (parameterized as the log of one minus the beta values), and log epsilon.\n",
    "\n",
    "We can access an instance of the optimizer with the opt_fn, and use that optimizer just like the ones in the previous section."
   ]
  },
  {
   "cell_type": "code",
   "execution_count": null,
   "id": "f326f969",
   "metadata": {
    "id": "f326f969"
   },
   "outputs": [],
   "source": [
    "opt = lopt.opt_fn(theta)\n",
    "opt_state = opt.init({\"p\": jnp.zeros([\n",
    "    2,\n",
    "])})"
   ]
  },
  {
   "cell_type": "markdown",
   "id": "8c05e64e",
   "metadata": {
    "id": "8c05e64e"
   },
   "source": [
    "With our optimizers split up in this way we can now write functions that are a function of the learned optimizer weights.\n",
    "\n",
    "As an example, let us define a function, `meta_loss` which is the result of applying a learned optimizer to a given problem for some number of steps."
   ]
  },
  {
   "cell_type": "code",
   "execution_count": null,
   "id": "d83689fc",
   "metadata": {
    "executionInfo": {
     "elapsed": 416,
     "status": "ok",
     "timestamp": 1643173208653,
     "user": {
      "displayName": "",
      "photoUrl": "",
      "userId": ""
     },
     "user_tz": 480
    },
    "id": "d83689fc",
    "outputId": "454b36b2-97b2-4615-fce9-b2c58ff254b5"
   },
   "outputs": [
    {
     "data": {
      "text/plain": [
       "DeviceArray(2.2636137, dtype=float32)"
      ]
     },
     "execution_count": 17,
     "metadata": {},
     "output_type": "execute_result"
    }
   ],
   "source": [
    "task = image_mlp.ImageMLP_FashionMnist8_Relu32()\n",
    "key = jax.random.PRNGKey(0)\n",
    "\n",
    "lopt = lopt_base.LearnableAdam()\n",
    "\n",
    "\n",
    "def meta_loss(theta, key, batch):\n",
    "  opt = lopt.opt_fn(theta)\n",
    "  key1, key = jax.random.split(key)\n",
    "  param = task.init(key1)\n",
    "  opt_state = opt.init(param)\n",
    "  for i in range(4):\n",
    "    param = opt.get_params(opt_state)\n",
    "    key1, key = jax.random.split(key)\n",
    "    l, grad = jax.value_and_grad(task.loss)(param, key1, batch)\n",
    "    opt_state = opt.update(opt_state, grad, l)\n",
    "\n",
    "  param, state = opt.get_params_state(opt_state)\n",
    "  key1, key = jax.random.split(key)\n",
    "  final_loss = task.loss(param, key1, batch)\n",
    "  return final_loss\n",
    "\n",
    "\n",
    "batch = next(task.datasets.train)\n",
    "meta_loss(theta, key, batch)"
   ]
  },
  {
   "cell_type": "markdown",
   "id": "bc9d8820",
   "metadata": {
    "id": "bc9d8820"
   },
   "source": [
    "But let's not stop there, we can leverage jax now to easily compute meta-gradients, or gradients with respect to the weights of the learned optimizer. This will take a bit to compile (~20 seconds on my machine) as this computation graph is a bit complex. Note: this can be greatly reduced by leveraging `jax.lax.scan`!"
   ]
  },
  {
   "cell_type": "code",
   "execution_count": null,
   "id": "bcffb853",
   "metadata": {
    "executionInfo": {
     "elapsed": 14706,
     "status": "ok",
     "timestamp": 1643173223561,
     "user": {
      "displayName": "",
      "photoUrl": "",
      "userId": ""
     },
     "user_tz": 480
    },
    "id": "bcffb853",
    "outputId": "26b32b58-50f6-42ff-abc0-04ff33c103cc"
   },
   "outputs": [
    {
     "data": {
      "text/plain": [
       "{'log_epsilon': DeviceArray(7.518652e-08, dtype=float32, weak_type=True),\n",
       " 'log_lr': DeviceArray(-0.04048448, dtype=float32, weak_type=True),\n",
       " 'one_minus_beta1': DeviceArray(-3.1022726e-05, dtype=float32),\n",
       " 'one_minus_beta2': DeviceArray(-2.4318695e-07, dtype=float32)}"
      ]
     },
     "execution_count": 18,
     "metadata": {},
     "output_type": "execute_result"
    }
   ],
   "source": [
    "meta_value_and_grad = jax.jit(jax.value_and_grad(meta_loss))\n",
    "\n",
    "ml, meta_grad = meta_value_and_grad(theta, key, batch)\n",
    "meta_grad"
   ]
  },
  {
   "cell_type": "markdown",
   "id": "683ab7ab",
   "metadata": {
    "id": "683ab7ab"
   },
   "source": [
    "We can see that this meta-gradient is saying we should increase the log learning rate to improve performance.\n",
    "\n",
    "We can now meta-train by using an additional optimizer -- this time to optimize `theta`, the weights of the learned optimizer."
   ]
  },
  {
   "cell_type": "code",
   "execution_count": null,
   "id": "2df4120e",
   "metadata": {
    "executionInfo": {
     "elapsed": 17330,
     "status": "ok",
     "timestamp": 1643173241067,
     "user": {
      "displayName": "",
      "photoUrl": "",
      "userId": ""
     },
     "user_tz": 480
    },
    "id": "2df4120e",
    "outputId": "6c5663d7-647e-4fc7-cae2-d75dd5ba8280"
   },
   "outputs": [
    {
     "name": "stdout",
     "output_type": "stream",
     "text": [
      "2.2463012\n",
      "2.2374353\n",
      "1.75054\n",
      "1.3767055\n",
      "1.0847464\n",
      "1.1990764\n",
      "1.3325281\n",
      "1.2866051\n",
      "1.1671047\n",
      "1.1733787\n",
      "1.5384903\n",
      "1.1215551\n",
      "1.123384\n",
      "1.2072926\n",
      "1.1499238\n",
      "1.1710639\n",
      "1.3856463\n",
      "1.4461384\n",
      "1.1795483\n",
      "1.1503576\n"
     ]
    }
   ],
   "source": [
    "theta_opt = opt_base.Adam(1e-2)\n",
    "\n",
    "key = jax.random.PRNGKey(0)\n",
    "theta = lopt.init(key)\n",
    "theta_opt_state = theta_opt.init(theta)\n",
    "\n",
    "learning_rates = []\n",
    "learnable_adam_meta_losses = []\n",
    "for i in range(2000):\n",
    "  batch = next(task.datasets.train)\n",
    "  key, key1 = jax.random.split(key)\n",
    "  theta = theta_opt.get_params(theta_opt_state)\n",
    "  ml, meta_grad = meta_value_and_grad(theta, key, batch)\n",
    "  theta_opt_state = theta_opt.update(theta_opt_state, meta_grad, ml)\n",
    "  learning_rates.append(theta[\"log_lr\"])\n",
    "  learnable_adam_meta_losses.append(ml)\n",
    "  if i % 100 == 0:\n",
    "    print(ml)"
   ]
  },
  {
   "cell_type": "code",
   "execution_count": null,
   "id": "a7456b62",
   "metadata": {
    "colab": {
     "height": 296
    },
    "executionInfo": {
     "elapsed": 934,
     "status": "ok",
     "timestamp": 1643173242450,
     "user": {
      "displayName": "",
      "photoUrl": "",
      "userId": ""
     },
     "user_tz": 480
    },
    "id": "a7456b62",
    "outputId": "57cac3cc-cc6e-4dbc-f717-22ebaad14428"
   },
   "outputs": [
    {
     "data": {
      "text/plain": [
       "Text(0.5, 0, 'meta-iteration')"
      ]
     },
     "execution_count": 20,
     "metadata": {},
     "output_type": "execute_result"
    },
    {
     "data": {
      "image/png": "[encoded data removed]",
      "text/plain": [
       "<Figure size 600x400 with 1 Axes>"
      ]
     },
     "metadata": {},
     "output_type": "display_data"
    }
   ],
   "source": [
    "import numpy as np\n",
    "from matplotlib import pylab as plt\n",
    "\n",
    "plt.semilogy(np.exp(learning_rates))\n",
    "plt.ylabel(\"learning rate\")\n",
    "plt.xlabel(\"meta-iteration\")"
   ]
  },
  {
   "cell_type": "markdown",
   "id": "2342786b",
   "metadata": {
    "id": "2342786b"
   },
   "source": [
    "And there you have it: we have used gradient-based meta-training to train the hyperparameters of our Adam optimizer! This is the core idea in learned optimizers.\n",
    "\n",
    "Fitting a handful of scalars is a relatively simple application of the tools we have developed. In this library there are a number of more complex learned optimizers. We will explore these models, as well as more complex library functionality, in the next colab notebook."
   ]
  }
 ],
 "metadata": {
  "colab": {
   "collapsed_sections": [],
   "last_runtime": {
    "build_target": "//learning/deepmind/public/tools/ml_python:ml_notebook",
    "kind": "private"
   },
   "name": "Part1_Introduction.ipynb",
   "provenance": []
  },
  "jupytext": {
   "formats": "ipynb,md:myst,py",
   "main_language": "python"
  },
  "kernelspec": {
   "display_name": "Python 3",
   "name": "python3"
  }
 },
 "nbformat": 4,
 "nbformat_minor": 5
}
